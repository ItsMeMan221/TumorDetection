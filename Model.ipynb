{
 "cells": [
  {
   "cell_type": "code",
   "execution_count": 1,
   "id": "ef5bee45",
   "metadata": {},
   "outputs": [],
   "source": [
    "import tensorflow as tf\n",
    "import matplotlib.pyplot as plt \n",
    "import scipy\n",
    "import os\n",
    "import math\n",
    "import shutil \n",
    "import numpy as np\n",
    "from tensorflow.python.client import device_lib\n",
    "from tensorflow.keras.applications import InceptionV3, ResNet152V2, VGG19\n",
    "from keras.models import Sequential \n",
    "from tensorflow.keras.models import Model\n",
    "from tensorflow.keras.layers import Dropout, Input, Flatten, Dense, MaxPooling2D, BatchNormalization,AveragePooling2D,LSTM,TimeDistributed, Reshape\n",
    "from tensorflow.keras.preprocessing.image import ImageDataGenerator\n",
    "from keras.callbacks import ModelCheckpoint , EarlyStopping\n",
    "from keras.models import load_model \n",
    "from tensorflow.keras.preprocessing import image\n",
    "import seaborn as sns\n",
    "from sklearn.metrics import classification_report, confusion_matrix, ConfusionMatrixDisplay\n",
    "import numpy as np"
   ]
  },
  {
   "cell_type": "code",
   "execution_count": 2,
   "id": "5f3498fd",
   "metadata": {},
   "outputs": [
    {
     "data": {
      "text/plain": [
       "[PhysicalDevice(name='/physical_device:GPU:0', device_type='GPU')]"
      ]
     },
     "execution_count": 2,
     "metadata": {},
     "output_type": "execute_result"
    }
   ],
   "source": [
    "tf.config.list_physical_devices('GPU')"
   ]
  },
  {
   "cell_type": "markdown",
   "id": "409efd3c",
   "metadata": {},
   "source": [
    "# Prepare Dataset"
   ]
  },
  {
   "cell_type": "code",
   "execution_count": 4,
   "id": "a21bb13a",
   "metadata": {},
   "outputs": [],
   "source": [
    "batchsize = 8\n",
    "ROOT_DIR = \"C:/Users/igosa/Documents/Kuliah/Semester 5/Metodelogi penelitian/Model/DATASET\""
   ]
  },
  {
   "cell_type": "code",
   "execution_count": 4,
   "id": "f35c602c",
   "metadata": {},
   "outputs": [
    {
     "data": {
      "text/plain": [
       "dict_items([('no', 5), ('yes', 4)])"
      ]
     },
     "execution_count": 4,
     "metadata": {},
     "output_type": "execute_result"
    }
   ],
   "source": [
    "num_img = {}\n",
    "\n",
    "for dir in os.listdir(ROOT_DIR): \n",
    "  num_img[dir] = len(os.listdir(os.path.join(ROOT_DIR, dir)))\n",
    "\n",
    "num_img.items()"
   ]
  },
  {
   "cell_type": "code",
   "execution_count": 5,
   "id": "d8e16f8d",
   "metadata": {},
   "outputs": [],
   "source": [
    "def dataFolder(p,s): \n",
    "  if not os.path.exists(\"./\"+ p): \n",
    "    os.mkdir(\"./\" + p)\n",
    "    for dir in os.listdir(ROOT_DIR): \n",
    "      os.makedirs(\"./\" + p + \"/\" + dir)\n",
    "\n",
    "      for img in np.random.choice(a = os.listdir(os.path.join(ROOT_DIR, dir)), \n",
    "                                  size = (math.floor(s * num_img[dir])-1), \n",
    "                                  replace=False) : \n",
    "        O = os.path.join(ROOT_DIR, dir, img)\n",
    "        D  = os.path.join(\"./\" + p, dir)\n",
    "        shutil.copy(O,D)\n",
    "        os.remove(O)\n",
    "  else: \n",
    "    print(f\"{p} folder exist\")   "
   ]
  },
  {
   "cell_type": "code",
   "execution_count": 36,
   "id": "210c206b",
   "metadata": {},
   "outputs": [
    {
     "name": "stdout",
     "output_type": "stream",
     "text": [
      "val folder exist\n",
      "test folder exist\n"
     ]
    }
   ],
   "source": [
    "dataFolder(\"train\", 0.7)\n",
    "dataFolder(\"val\", 0.15)\n",
    "dataFolder(\"test\", 0.15)"
   ]
  },
  {
   "cell_type": "code",
   "execution_count": 5,
   "id": "75c316f9",
   "metadata": {},
   "outputs": [],
   "source": [
    "def preprocess(p): \n",
    "  image_data = ImageDataGenerator(\n",
    "      zoom_range = 0.2, \n",
    "      shear_range = 0.2, \n",
    "      rescale = 1/255, \n",
    "      horizontal_flip=True)\n",
    "  image = image_data.flow_from_directory(\n",
    "      directory = p, target_size = (224,224), \n",
    "      batch_size = batchsize , \n",
    "      class_mode='categorical', \n",
    "      shuffle=True)\n",
    "\n",
    "  return image"
   ]
  },
  {
   "cell_type": "code",
   "execution_count": 6,
   "id": "ddf7b024",
   "metadata": {},
   "outputs": [],
   "source": [
    "def preprocess2(p): \n",
    "  image_data = ImageDataGenerator( rescale = 1/255)\n",
    "  image = image_data.flow_from_directory(\n",
    "      directory = p, target_size = (224,224), \n",
    "      batch_size = batchsize , \n",
    "      class_mode='categorical', \n",
    "      shuffle=True)\n",
    "  return image\n"
   ]
  },
  {
   "cell_type": "code",
   "execution_count": 7,
   "id": "fff00fbe",
   "metadata": {},
   "outputs": [
    {
     "name": "stdout",
     "output_type": "stream",
     "text": [
      "Found 2216 images belonging to 2 classes.\n"
     ]
    }
   ],
   "source": [
    "p = './train'\n",
    "train_data = preprocess(p)"
   ]
  },
  {
   "cell_type": "code",
   "execution_count": 8,
   "id": "40cf0258",
   "metadata": {},
   "outputs": [
    {
     "name": "stdout",
     "output_type": "stream",
     "text": [
      "Found 472 images belonging to 2 classes.\n"
     ]
    }
   ],
   "source": [
    "p = './val'\n",
    "val_data = preprocess2(p)"
   ]
  },
  {
   "cell_type": "code",
   "execution_count": 9,
   "id": "d6f7a586",
   "metadata": {},
   "outputs": [
    {
     "name": "stdout",
     "output_type": "stream",
     "text": [
      "Found 472 images belonging to 2 classes.\n"
     ]
    }
   ],
   "source": [
    "p = './test'\n",
    "test_data = preprocess2(p)"
   ]
  },
  {
   "cell_type": "markdown",
   "id": "6130e59c",
   "metadata": {},
   "source": [
    "# Model Building"
   ]
  },
  {
   "cell_type": "code",
   "execution_count": 11,
   "id": "de754f4c",
   "metadata": {},
   "outputs": [
    {
     "name": "stdout",
     "output_type": "stream",
     "text": [
      "WARNING:tensorflow:Layer lstm will not use cuDNN kernels since it doesn't meet the criteria. It will use a generic GPU kernel as fallback when running on GPU.\n",
      "Model: \"model\"\n",
      "__________________________________________________________________________________________________\n",
      " Layer (type)                   Output Shape         Param #     Connected to                     \n",
      "==================================================================================================\n",
      " input_1 (InputLayer)           [(None, 224, 224, 3  0           []                               \n",
      "                                )]                                                                \n",
      "                                                                                                  \n",
      " conv2d (Conv2D)                (None, 111, 111, 32  864         ['input_1[0][0]']                \n",
      "                                )                                                                 \n",
      "                                                                                                  \n",
      " batch_normalization (BatchNorm  (None, 111, 111, 32  96         ['conv2d[0][0]']                 \n",
      " alization)                     )                                                                 \n",
      "                                                                                                  \n",
      " activation (Activation)        (None, 111, 111, 32  0           ['batch_normalization[0][0]']    \n",
      "                                )                                                                 \n",
      "                                                                                                  \n",
      " conv2d_1 (Conv2D)              (None, 109, 109, 32  9216        ['activation[0][0]']             \n",
      "                                )                                                                 \n",
      "                                                                                                  \n",
      " batch_normalization_1 (BatchNo  (None, 109, 109, 32  96         ['conv2d_1[0][0]']               \n",
      " rmalization)                   )                                                                 \n",
      "                                                                                                  \n",
      " activation_1 (Activation)      (None, 109, 109, 32  0           ['batch_normalization_1[0][0]']  \n",
      "                                )                                                                 \n",
      "                                                                                                  \n",
      " conv2d_2 (Conv2D)              (None, 109, 109, 64  18432       ['activation_1[0][0]']           \n",
      "                                )                                                                 \n",
      "                                                                                                  \n",
      " batch_normalization_2 (BatchNo  (None, 109, 109, 64  192        ['conv2d_2[0][0]']               \n",
      " rmalization)                   )                                                                 \n",
      "                                                                                                  \n",
      " activation_2 (Activation)      (None, 109, 109, 64  0           ['batch_normalization_2[0][0]']  \n",
      "                                )                                                                 \n",
      "                                                                                                  \n",
      " max_pooling2d (MaxPooling2D)   (None, 54, 54, 64)   0           ['activation_2[0][0]']           \n",
      "                                                                                                  \n",
      " conv2d_3 (Conv2D)              (None, 54, 54, 80)   5120        ['max_pooling2d[0][0]']          \n",
      "                                                                                                  \n",
      " batch_normalization_3 (BatchNo  (None, 54, 54, 80)  240         ['conv2d_3[0][0]']               \n",
      " rmalization)                                                                                     \n",
      "                                                                                                  \n",
      " activation_3 (Activation)      (None, 54, 54, 80)   0           ['batch_normalization_3[0][0]']  \n",
      "                                                                                                  \n",
      " conv2d_4 (Conv2D)              (None, 52, 52, 192)  138240      ['activation_3[0][0]']           \n",
      "                                                                                                  \n",
      " batch_normalization_4 (BatchNo  (None, 52, 52, 192)  576        ['conv2d_4[0][0]']               \n",
      " rmalization)                                                                                     \n",
      "                                                                                                  \n",
      " activation_4 (Activation)      (None, 52, 52, 192)  0           ['batch_normalization_4[0][0]']  \n",
      "                                                                                                  \n",
      " max_pooling2d_1 (MaxPooling2D)  (None, 25, 25, 192)  0          ['activation_4[0][0]']           \n",
      "                                                                                                  \n",
      " conv2d_8 (Conv2D)              (None, 25, 25, 64)   12288       ['max_pooling2d_1[0][0]']        \n",
      "                                                                                                  \n",
      " batch_normalization_8 (BatchNo  (None, 25, 25, 64)  192         ['conv2d_8[0][0]']               \n",
      " rmalization)                                                                                     \n",
      "                                                                                                  \n",
      " activation_8 (Activation)      (None, 25, 25, 64)   0           ['batch_normalization_8[0][0]']  \n",
      "                                                                                                  \n",
      " conv2d_6 (Conv2D)              (None, 25, 25, 48)   9216        ['max_pooling2d_1[0][0]']        \n",
      "                                                                                                  \n",
      " conv2d_9 (Conv2D)              (None, 25, 25, 96)   55296       ['activation_8[0][0]']           \n",
      "                                                                                                  \n",
      " batch_normalization_6 (BatchNo  (None, 25, 25, 48)  144         ['conv2d_6[0][0]']               \n",
      " rmalization)                                                                                     \n",
      "                                                                                                  \n",
      " batch_normalization_9 (BatchNo  (None, 25, 25, 96)  288         ['conv2d_9[0][0]']               \n",
      " rmalization)                                                                                     \n",
      "                                                                                                  \n",
      " activation_6 (Activation)      (None, 25, 25, 48)   0           ['batch_normalization_6[0][0]']  \n",
      "                                                                                                  \n",
      " activation_9 (Activation)      (None, 25, 25, 96)   0           ['batch_normalization_9[0][0]']  \n",
      "                                                                                                  \n",
      " average_pooling2d (AveragePool  (None, 25, 25, 192)  0          ['max_pooling2d_1[0][0]']        \n",
      " ing2D)                                                                                           \n",
      "                                                                                                  \n",
      " conv2d_5 (Conv2D)              (None, 25, 25, 64)   12288       ['max_pooling2d_1[0][0]']        \n",
      "                                                                                                  \n",
      " conv2d_7 (Conv2D)              (None, 25, 25, 64)   76800       ['activation_6[0][0]']           \n",
      "                                                                                                  \n",
      " conv2d_10 (Conv2D)             (None, 25, 25, 96)   82944       ['activation_9[0][0]']           \n",
      "                                                                                                  \n"
     ]
    },
    {
     "name": "stdout",
     "output_type": "stream",
     "text": [
      " conv2d_11 (Conv2D)             (None, 25, 25, 32)   6144        ['average_pooling2d[0][0]']      \n",
      "                                                                                                  \n",
      " batch_normalization_5 (BatchNo  (None, 25, 25, 64)  192         ['conv2d_5[0][0]']               \n",
      " rmalization)                                                                                     \n",
      "                                                                                                  \n",
      " batch_normalization_7 (BatchNo  (None, 25, 25, 64)  192         ['conv2d_7[0][0]']               \n",
      " rmalization)                                                                                     \n",
      "                                                                                                  \n",
      " batch_normalization_10 (BatchN  (None, 25, 25, 96)  288         ['conv2d_10[0][0]']              \n",
      " ormalization)                                                                                    \n",
      "                                                                                                  \n",
      " batch_normalization_11 (BatchN  (None, 25, 25, 32)  96          ['conv2d_11[0][0]']              \n",
      " ormalization)                                                                                    \n",
      "                                                                                                  \n",
      " activation_5 (Activation)      (None, 25, 25, 64)   0           ['batch_normalization_5[0][0]']  \n",
      "                                                                                                  \n",
      " activation_7 (Activation)      (None, 25, 25, 64)   0           ['batch_normalization_7[0][0]']  \n",
      "                                                                                                  \n",
      " activation_10 (Activation)     (None, 25, 25, 96)   0           ['batch_normalization_10[0][0]'] \n",
      "                                                                                                  \n",
      " activation_11 (Activation)     (None, 25, 25, 32)   0           ['batch_normalization_11[0][0]'] \n",
      "                                                                                                  \n",
      " mixed0 (Concatenate)           (None, 25, 25, 256)  0           ['activation_5[0][0]',           \n",
      "                                                                  'activation_7[0][0]',           \n",
      "                                                                  'activation_10[0][0]',          \n",
      "                                                                  'activation_11[0][0]']          \n",
      "                                                                                                  \n",
      " conv2d_15 (Conv2D)             (None, 25, 25, 64)   16384       ['mixed0[0][0]']                 \n",
      "                                                                                                  \n",
      " batch_normalization_15 (BatchN  (None, 25, 25, 64)  192         ['conv2d_15[0][0]']              \n",
      " ormalization)                                                                                    \n",
      "                                                                                                  \n",
      " activation_15 (Activation)     (None, 25, 25, 64)   0           ['batch_normalization_15[0][0]'] \n",
      "                                                                                                  \n",
      " conv2d_13 (Conv2D)             (None, 25, 25, 48)   12288       ['mixed0[0][0]']                 \n",
      "                                                                                                  \n",
      " conv2d_16 (Conv2D)             (None, 25, 25, 96)   55296       ['activation_15[0][0]']          \n",
      "                                                                                                  \n",
      " batch_normalization_13 (BatchN  (None, 25, 25, 48)  144         ['conv2d_13[0][0]']              \n",
      " ormalization)                                                                                    \n",
      "                                                                                                  \n",
      " batch_normalization_16 (BatchN  (None, 25, 25, 96)  288         ['conv2d_16[0][0]']              \n",
      " ormalization)                                                                                    \n",
      "                                                                                                  \n",
      " activation_13 (Activation)     (None, 25, 25, 48)   0           ['batch_normalization_13[0][0]'] \n",
      "                                                                                                  \n",
      " activation_16 (Activation)     (None, 25, 25, 96)   0           ['batch_normalization_16[0][0]'] \n",
      "                                                                                                  \n",
      " average_pooling2d_1 (AveragePo  (None, 25, 25, 256)  0          ['mixed0[0][0]']                 \n",
      " oling2D)                                                                                         \n",
      "                                                                                                  \n",
      " conv2d_12 (Conv2D)             (None, 25, 25, 64)   16384       ['mixed0[0][0]']                 \n",
      "                                                                                                  \n",
      " conv2d_14 (Conv2D)             (None, 25, 25, 64)   76800       ['activation_13[0][0]']          \n",
      "                                                                                                  \n",
      " conv2d_17 (Conv2D)             (None, 25, 25, 96)   82944       ['activation_16[0][0]']          \n",
      "                                                                                                  \n",
      " conv2d_18 (Conv2D)             (None, 25, 25, 64)   16384       ['average_pooling2d_1[0][0]']    \n",
      "                                                                                                  \n",
      " batch_normalization_12 (BatchN  (None, 25, 25, 64)  192         ['conv2d_12[0][0]']              \n",
      " ormalization)                                                                                    \n",
      "                                                                                                  \n",
      " batch_normalization_14 (BatchN  (None, 25, 25, 64)  192         ['conv2d_14[0][0]']              \n",
      " ormalization)                                                                                    \n",
      "                                                                                                  \n",
      " batch_normalization_17 (BatchN  (None, 25, 25, 96)  288         ['conv2d_17[0][0]']              \n",
      " ormalization)                                                                                    \n",
      "                                                                                                  \n",
      " batch_normalization_18 (BatchN  (None, 25, 25, 64)  192         ['conv2d_18[0][0]']              \n",
      " ormalization)                                                                                    \n",
      "                                                                                                  \n",
      " activation_12 (Activation)     (None, 25, 25, 64)   0           ['batch_normalization_12[0][0]'] \n",
      "                                                                                                  \n",
      " activation_14 (Activation)     (None, 25, 25, 64)   0           ['batch_normalization_14[0][0]'] \n",
      "                                                                                                  \n",
      " activation_17 (Activation)     (None, 25, 25, 96)   0           ['batch_normalization_17[0][0]'] \n",
      "                                                                                                  \n",
      " activation_18 (Activation)     (None, 25, 25, 64)   0           ['batch_normalization_18[0][0]'] \n",
      "                                                                                                  \n",
      " mixed1 (Concatenate)           (None, 25, 25, 288)  0           ['activation_12[0][0]',          \n",
      "                                                                  'activation_14[0][0]',          \n",
      "                                                                  'activation_17[0][0]',          \n",
      "                                                                  'activation_18[0][0]']          \n"
     ]
    },
    {
     "name": "stdout",
     "output_type": "stream",
     "text": [
      "                                                                                                  \n",
      " conv2d_22 (Conv2D)             (None, 25, 25, 64)   18432       ['mixed1[0][0]']                 \n",
      "                                                                                                  \n",
      " batch_normalization_22 (BatchN  (None, 25, 25, 64)  192         ['conv2d_22[0][0]']              \n",
      " ormalization)                                                                                    \n",
      "                                                                                                  \n",
      " activation_22 (Activation)     (None, 25, 25, 64)   0           ['batch_normalization_22[0][0]'] \n",
      "                                                                                                  \n",
      " conv2d_20 (Conv2D)             (None, 25, 25, 48)   13824       ['mixed1[0][0]']                 \n",
      "                                                                                                  \n",
      " conv2d_23 (Conv2D)             (None, 25, 25, 96)   55296       ['activation_22[0][0]']          \n",
      "                                                                                                  \n",
      " batch_normalization_20 (BatchN  (None, 25, 25, 48)  144         ['conv2d_20[0][0]']              \n",
      " ormalization)                                                                                    \n",
      "                                                                                                  \n",
      " batch_normalization_23 (BatchN  (None, 25, 25, 96)  288         ['conv2d_23[0][0]']              \n",
      " ormalization)                                                                                    \n",
      "                                                                                                  \n",
      " activation_20 (Activation)     (None, 25, 25, 48)   0           ['batch_normalization_20[0][0]'] \n",
      "                                                                                                  \n",
      " activation_23 (Activation)     (None, 25, 25, 96)   0           ['batch_normalization_23[0][0]'] \n",
      "                                                                                                  \n",
      " average_pooling2d_2 (AveragePo  (None, 25, 25, 288)  0          ['mixed1[0][0]']                 \n",
      " oling2D)                                                                                         \n",
      "                                                                                                  \n",
      " conv2d_19 (Conv2D)             (None, 25, 25, 64)   18432       ['mixed1[0][0]']                 \n",
      "                                                                                                  \n",
      " conv2d_21 (Conv2D)             (None, 25, 25, 64)   76800       ['activation_20[0][0]']          \n",
      "                                                                                                  \n",
      " conv2d_24 (Conv2D)             (None, 25, 25, 96)   82944       ['activation_23[0][0]']          \n",
      "                                                                                                  \n",
      " conv2d_25 (Conv2D)             (None, 25, 25, 64)   18432       ['average_pooling2d_2[0][0]']    \n",
      "                                                                                                  \n",
      " batch_normalization_19 (BatchN  (None, 25, 25, 64)  192         ['conv2d_19[0][0]']              \n",
      " ormalization)                                                                                    \n",
      "                                                                                                  \n",
      " batch_normalization_21 (BatchN  (None, 25, 25, 64)  192         ['conv2d_21[0][0]']              \n",
      " ormalization)                                                                                    \n",
      "                                                                                                  \n",
      " batch_normalization_24 (BatchN  (None, 25, 25, 96)  288         ['conv2d_24[0][0]']              \n",
      " ormalization)                                                                                    \n",
      "                                                                                                  \n",
      " batch_normalization_25 (BatchN  (None, 25, 25, 64)  192         ['conv2d_25[0][0]']              \n",
      " ormalization)                                                                                    \n",
      "                                                                                                  \n",
      " activation_19 (Activation)     (None, 25, 25, 64)   0           ['batch_normalization_19[0][0]'] \n",
      "                                                                                                  \n",
      " activation_21 (Activation)     (None, 25, 25, 64)   0           ['batch_normalization_21[0][0]'] \n",
      "                                                                                                  \n",
      " activation_24 (Activation)     (None, 25, 25, 96)   0           ['batch_normalization_24[0][0]'] \n",
      "                                                                                                  \n",
      " activation_25 (Activation)     (None, 25, 25, 64)   0           ['batch_normalization_25[0][0]'] \n",
      "                                                                                                  \n",
      " mixed2 (Concatenate)           (None, 25, 25, 288)  0           ['activation_19[0][0]',          \n",
      "                                                                  'activation_21[0][0]',          \n",
      "                                                                  'activation_24[0][0]',          \n",
      "                                                                  'activation_25[0][0]']          \n",
      "                                                                                                  \n",
      " conv2d_27 (Conv2D)             (None, 25, 25, 64)   18432       ['mixed2[0][0]']                 \n",
      "                                                                                                  \n",
      " batch_normalization_27 (BatchN  (None, 25, 25, 64)  192         ['conv2d_27[0][0]']              \n",
      " ormalization)                                                                                    \n",
      "                                                                                                  \n",
      " activation_27 (Activation)     (None, 25, 25, 64)   0           ['batch_normalization_27[0][0]'] \n",
      "                                                                                                  \n",
      " conv2d_28 (Conv2D)             (None, 25, 25, 96)   55296       ['activation_27[0][0]']          \n",
      "                                                                                                  \n",
      " batch_normalization_28 (BatchN  (None, 25, 25, 96)  288         ['conv2d_28[0][0]']              \n",
      " ormalization)                                                                                    \n",
      "                                                                                                  \n",
      " activation_28 (Activation)     (None, 25, 25, 96)   0           ['batch_normalization_28[0][0]'] \n",
      "                                                                                                  \n",
      " conv2d_26 (Conv2D)             (None, 12, 12, 384)  995328      ['mixed2[0][0]']                 \n",
      "                                                                                                  \n",
      " conv2d_29 (Conv2D)             (None, 12, 12, 96)   82944       ['activation_28[0][0]']          \n",
      "                                                                                                  \n",
      " batch_normalization_26 (BatchN  (None, 12, 12, 384)  1152       ['conv2d_26[0][0]']              \n",
      " ormalization)                                                                                    \n",
      "                                                                                                  \n",
      " batch_normalization_29 (BatchN  (None, 12, 12, 96)  288         ['conv2d_29[0][0]']              \n",
      " ormalization)                                                                                    \n",
      "                                                                                                  \n",
      " activation_26 (Activation)     (None, 12, 12, 384)  0           ['batch_normalization_26[0][0]'] \n"
     ]
    },
    {
     "name": "stdout",
     "output_type": "stream",
     "text": [
      "                                                                                                  \n",
      " activation_29 (Activation)     (None, 12, 12, 96)   0           ['batch_normalization_29[0][0]'] \n",
      "                                                                                                  \n",
      " max_pooling2d_2 (MaxPooling2D)  (None, 12, 12, 288)  0          ['mixed2[0][0]']                 \n",
      "                                                                                                  \n",
      " mixed3 (Concatenate)           (None, 12, 12, 768)  0           ['activation_26[0][0]',          \n",
      "                                                                  'activation_29[0][0]',          \n",
      "                                                                  'max_pooling2d_2[0][0]']        \n",
      "                                                                                                  \n",
      " conv2d_34 (Conv2D)             (None, 12, 12, 128)  98304       ['mixed3[0][0]']                 \n",
      "                                                                                                  \n",
      " batch_normalization_34 (BatchN  (None, 12, 12, 128)  384        ['conv2d_34[0][0]']              \n",
      " ormalization)                                                                                    \n",
      "                                                                                                  \n",
      " activation_34 (Activation)     (None, 12, 12, 128)  0           ['batch_normalization_34[0][0]'] \n",
      "                                                                                                  \n",
      " conv2d_35 (Conv2D)             (None, 12, 12, 128)  114688      ['activation_34[0][0]']          \n",
      "                                                                                                  \n",
      " batch_normalization_35 (BatchN  (None, 12, 12, 128)  384        ['conv2d_35[0][0]']              \n",
      " ormalization)                                                                                    \n",
      "                                                                                                  \n",
      " activation_35 (Activation)     (None, 12, 12, 128)  0           ['batch_normalization_35[0][0]'] \n",
      "                                                                                                  \n",
      " conv2d_31 (Conv2D)             (None, 12, 12, 128)  98304       ['mixed3[0][0]']                 \n",
      "                                                                                                  \n",
      " conv2d_36 (Conv2D)             (None, 12, 12, 128)  114688      ['activation_35[0][0]']          \n",
      "                                                                                                  \n",
      " batch_normalization_31 (BatchN  (None, 12, 12, 128)  384        ['conv2d_31[0][0]']              \n",
      " ormalization)                                                                                    \n",
      "                                                                                                  \n",
      " batch_normalization_36 (BatchN  (None, 12, 12, 128)  384        ['conv2d_36[0][0]']              \n",
      " ormalization)                                                                                    \n",
      "                                                                                                  \n",
      " activation_31 (Activation)     (None, 12, 12, 128)  0           ['batch_normalization_31[0][0]'] \n",
      "                                                                                                  \n",
      " activation_36 (Activation)     (None, 12, 12, 128)  0           ['batch_normalization_36[0][0]'] \n",
      "                                                                                                  \n",
      " conv2d_32 (Conv2D)             (None, 12, 12, 128)  114688      ['activation_31[0][0]']          \n",
      "                                                                                                  \n",
      " conv2d_37 (Conv2D)             (None, 12, 12, 128)  114688      ['activation_36[0][0]']          \n",
      "                                                                                                  \n",
      " batch_normalization_32 (BatchN  (None, 12, 12, 128)  384        ['conv2d_32[0][0]']              \n",
      " ormalization)                                                                                    \n",
      "                                                                                                  \n",
      " batch_normalization_37 (BatchN  (None, 12, 12, 128)  384        ['conv2d_37[0][0]']              \n",
      " ormalization)                                                                                    \n",
      "                                                                                                  \n",
      " activation_32 (Activation)     (None, 12, 12, 128)  0           ['batch_normalization_32[0][0]'] \n",
      "                                                                                                  \n",
      " activation_37 (Activation)     (None, 12, 12, 128)  0           ['batch_normalization_37[0][0]'] \n",
      "                                                                                                  \n",
      " average_pooling2d_3 (AveragePo  (None, 12, 12, 768)  0          ['mixed3[0][0]']                 \n",
      " oling2D)                                                                                         \n",
      "                                                                                                  \n",
      " conv2d_30 (Conv2D)             (None, 12, 12, 192)  147456      ['mixed3[0][0]']                 \n",
      "                                                                                                  \n",
      " conv2d_33 (Conv2D)             (None, 12, 12, 192)  172032      ['activation_32[0][0]']          \n",
      "                                                                                                  \n",
      " conv2d_38 (Conv2D)             (None, 12, 12, 192)  172032      ['activation_37[0][0]']          \n",
      "                                                                                                  \n",
      " conv2d_39 (Conv2D)             (None, 12, 12, 192)  147456      ['average_pooling2d_3[0][0]']    \n",
      "                                                                                                  \n",
      " batch_normalization_30 (BatchN  (None, 12, 12, 192)  576        ['conv2d_30[0][0]']              \n",
      " ormalization)                                                                                    \n",
      "                                                                                                  \n",
      " batch_normalization_33 (BatchN  (None, 12, 12, 192)  576        ['conv2d_33[0][0]']              \n",
      " ormalization)                                                                                    \n",
      "                                                                                                  \n",
      " batch_normalization_38 (BatchN  (None, 12, 12, 192)  576        ['conv2d_38[0][0]']              \n",
      " ormalization)                                                                                    \n",
      "                                                                                                  \n",
      " batch_normalization_39 (BatchN  (None, 12, 12, 192)  576        ['conv2d_39[0][0]']              \n",
      " ormalization)                                                                                    \n",
      "                                                                                                  \n",
      " activation_30 (Activation)     (None, 12, 12, 192)  0           ['batch_normalization_30[0][0]'] \n",
      "                                                                                                  \n",
      " activation_33 (Activation)     (None, 12, 12, 192)  0           ['batch_normalization_33[0][0]'] \n",
      "                                                                                                  \n",
      " activation_38 (Activation)     (None, 12, 12, 192)  0           ['batch_normalization_38[0][0]'] \n",
      "                                                                                                  \n",
      " activation_39 (Activation)     (None, 12, 12, 192)  0           ['batch_normalization_39[0][0]'] \n",
      "                                                                                                  \n",
      " mixed4 (Concatenate)           (None, 12, 12, 768)  0           ['activation_30[0][0]',          \n"
     ]
    },
    {
     "name": "stdout",
     "output_type": "stream",
     "text": [
      "                                                                  'activation_33[0][0]',          \n",
      "                                                                  'activation_38[0][0]',          \n",
      "                                                                  'activation_39[0][0]']          \n",
      "                                                                                                  \n",
      " conv2d_44 (Conv2D)             (None, 12, 12, 160)  122880      ['mixed4[0][0]']                 \n",
      "                                                                                                  \n",
      " batch_normalization_44 (BatchN  (None, 12, 12, 160)  480        ['conv2d_44[0][0]']              \n",
      " ormalization)                                                                                    \n",
      "                                                                                                  \n",
      " activation_44 (Activation)     (None, 12, 12, 160)  0           ['batch_normalization_44[0][0]'] \n",
      "                                                                                                  \n",
      " conv2d_45 (Conv2D)             (None, 12, 12, 160)  179200      ['activation_44[0][0]']          \n",
      "                                                                                                  \n",
      " batch_normalization_45 (BatchN  (None, 12, 12, 160)  480        ['conv2d_45[0][0]']              \n",
      " ormalization)                                                                                    \n",
      "                                                                                                  \n",
      " activation_45 (Activation)     (None, 12, 12, 160)  0           ['batch_normalization_45[0][0]'] \n",
      "                                                                                                  \n",
      " conv2d_41 (Conv2D)             (None, 12, 12, 160)  122880      ['mixed4[0][0]']                 \n",
      "                                                                                                  \n",
      " conv2d_46 (Conv2D)             (None, 12, 12, 160)  179200      ['activation_45[0][0]']          \n",
      "                                                                                                  \n",
      " batch_normalization_41 (BatchN  (None, 12, 12, 160)  480        ['conv2d_41[0][0]']              \n",
      " ormalization)                                                                                    \n",
      "                                                                                                  \n",
      " batch_normalization_46 (BatchN  (None, 12, 12, 160)  480        ['conv2d_46[0][0]']              \n",
      " ormalization)                                                                                    \n",
      "                                                                                                  \n",
      " activation_41 (Activation)     (None, 12, 12, 160)  0           ['batch_normalization_41[0][0]'] \n",
      "                                                                                                  \n",
      " activation_46 (Activation)     (None, 12, 12, 160)  0           ['batch_normalization_46[0][0]'] \n",
      "                                                                                                  \n",
      " conv2d_42 (Conv2D)             (None, 12, 12, 160)  179200      ['activation_41[0][0]']          \n",
      "                                                                                                  \n",
      " conv2d_47 (Conv2D)             (None, 12, 12, 160)  179200      ['activation_46[0][0]']          \n",
      "                                                                                                  \n",
      " batch_normalization_42 (BatchN  (None, 12, 12, 160)  480        ['conv2d_42[0][0]']              \n",
      " ormalization)                                                                                    \n",
      "                                                                                                  \n",
      " batch_normalization_47 (BatchN  (None, 12, 12, 160)  480        ['conv2d_47[0][0]']              \n",
      " ormalization)                                                                                    \n",
      "                                                                                                  \n",
      " activation_42 (Activation)     (None, 12, 12, 160)  0           ['batch_normalization_42[0][0]'] \n",
      "                                                                                                  \n",
      " activation_47 (Activation)     (None, 12, 12, 160)  0           ['batch_normalization_47[0][0]'] \n",
      "                                                                                                  \n",
      " average_pooling2d_4 (AveragePo  (None, 12, 12, 768)  0          ['mixed4[0][0]']                 \n",
      " oling2D)                                                                                         \n",
      "                                                                                                  \n",
      " conv2d_40 (Conv2D)             (None, 12, 12, 192)  147456      ['mixed4[0][0]']                 \n",
      "                                                                                                  \n",
      " conv2d_43 (Conv2D)             (None, 12, 12, 192)  215040      ['activation_42[0][0]']          \n",
      "                                                                                                  \n",
      " conv2d_48 (Conv2D)             (None, 12, 12, 192)  215040      ['activation_47[0][0]']          \n",
      "                                                                                                  \n",
      " conv2d_49 (Conv2D)             (None, 12, 12, 192)  147456      ['average_pooling2d_4[0][0]']    \n",
      "                                                                                                  \n",
      " batch_normalization_40 (BatchN  (None, 12, 12, 192)  576        ['conv2d_40[0][0]']              \n",
      " ormalization)                                                                                    \n",
      "                                                                                                  \n",
      " batch_normalization_43 (BatchN  (None, 12, 12, 192)  576        ['conv2d_43[0][0]']              \n",
      " ormalization)                                                                                    \n",
      "                                                                                                  \n",
      " batch_normalization_48 (BatchN  (None, 12, 12, 192)  576        ['conv2d_48[0][0]']              \n",
      " ormalization)                                                                                    \n",
      "                                                                                                  \n",
      " batch_normalization_49 (BatchN  (None, 12, 12, 192)  576        ['conv2d_49[0][0]']              \n",
      " ormalization)                                                                                    \n",
      "                                                                                                  \n",
      " activation_40 (Activation)     (None, 12, 12, 192)  0           ['batch_normalization_40[0][0]'] \n",
      "                                                                                                  \n",
      " activation_43 (Activation)     (None, 12, 12, 192)  0           ['batch_normalization_43[0][0]'] \n",
      "                                                                                                  \n",
      " activation_48 (Activation)     (None, 12, 12, 192)  0           ['batch_normalization_48[0][0]'] \n",
      "                                                                                                  \n",
      " activation_49 (Activation)     (None, 12, 12, 192)  0           ['batch_normalization_49[0][0]'] \n",
      "                                                                                                  \n",
      " mixed5 (Concatenate)           (None, 12, 12, 768)  0           ['activation_40[0][0]',          \n",
      "                                                                  'activation_43[0][0]',          \n",
      "                                                                  'activation_48[0][0]',          \n",
      "                                                                  'activation_49[0][0]']          \n",
      "                                                                                                  \n",
      " conv2d_54 (Conv2D)             (None, 12, 12, 160)  122880      ['mixed5[0][0]']                 \n"
     ]
    },
    {
     "name": "stdout",
     "output_type": "stream",
     "text": [
      "                                                                                                  \n",
      " batch_normalization_54 (BatchN  (None, 12, 12, 160)  480        ['conv2d_54[0][0]']              \n",
      " ormalization)                                                                                    \n",
      "                                                                                                  \n",
      " activation_54 (Activation)     (None, 12, 12, 160)  0           ['batch_normalization_54[0][0]'] \n",
      "                                                                                                  \n",
      " conv2d_55 (Conv2D)             (None, 12, 12, 160)  179200      ['activation_54[0][0]']          \n",
      "                                                                                                  \n",
      " batch_normalization_55 (BatchN  (None, 12, 12, 160)  480        ['conv2d_55[0][0]']              \n",
      " ormalization)                                                                                    \n",
      "                                                                                                  \n",
      " activation_55 (Activation)     (None, 12, 12, 160)  0           ['batch_normalization_55[0][0]'] \n",
      "                                                                                                  \n",
      " conv2d_51 (Conv2D)             (None, 12, 12, 160)  122880      ['mixed5[0][0]']                 \n",
      "                                                                                                  \n",
      " conv2d_56 (Conv2D)             (None, 12, 12, 160)  179200      ['activation_55[0][0]']          \n",
      "                                                                                                  \n",
      " batch_normalization_51 (BatchN  (None, 12, 12, 160)  480        ['conv2d_51[0][0]']              \n",
      " ormalization)                                                                                    \n",
      "                                                                                                  \n",
      " batch_normalization_56 (BatchN  (None, 12, 12, 160)  480        ['conv2d_56[0][0]']              \n",
      " ormalization)                                                                                    \n",
      "                                                                                                  \n",
      " activation_51 (Activation)     (None, 12, 12, 160)  0           ['batch_normalization_51[0][0]'] \n",
      "                                                                                                  \n",
      " activation_56 (Activation)     (None, 12, 12, 160)  0           ['batch_normalization_56[0][0]'] \n",
      "                                                                                                  \n",
      " conv2d_52 (Conv2D)             (None, 12, 12, 160)  179200      ['activation_51[0][0]']          \n",
      "                                                                                                  \n",
      " conv2d_57 (Conv2D)             (None, 12, 12, 160)  179200      ['activation_56[0][0]']          \n",
      "                                                                                                  \n",
      " batch_normalization_52 (BatchN  (None, 12, 12, 160)  480        ['conv2d_52[0][0]']              \n",
      " ormalization)                                                                                    \n",
      "                                                                                                  \n",
      " batch_normalization_57 (BatchN  (None, 12, 12, 160)  480        ['conv2d_57[0][0]']              \n",
      " ormalization)                                                                                    \n",
      "                                                                                                  \n",
      " activation_52 (Activation)     (None, 12, 12, 160)  0           ['batch_normalization_52[0][0]'] \n",
      "                                                                                                  \n",
      " activation_57 (Activation)     (None, 12, 12, 160)  0           ['batch_normalization_57[0][0]'] \n",
      "                                                                                                  \n",
      " average_pooling2d_5 (AveragePo  (None, 12, 12, 768)  0          ['mixed5[0][0]']                 \n",
      " oling2D)                                                                                         \n",
      "                                                                                                  \n",
      " conv2d_50 (Conv2D)             (None, 12, 12, 192)  147456      ['mixed5[0][0]']                 \n",
      "                                                                                                  \n",
      " conv2d_53 (Conv2D)             (None, 12, 12, 192)  215040      ['activation_52[0][0]']          \n",
      "                                                                                                  \n",
      " conv2d_58 (Conv2D)             (None, 12, 12, 192)  215040      ['activation_57[0][0]']          \n",
      "                                                                                                  \n",
      " conv2d_59 (Conv2D)             (None, 12, 12, 192)  147456      ['average_pooling2d_5[0][0]']    \n",
      "                                                                                                  \n",
      " batch_normalization_50 (BatchN  (None, 12, 12, 192)  576        ['conv2d_50[0][0]']              \n",
      " ormalization)                                                                                    \n",
      "                                                                                                  \n",
      " batch_normalization_53 (BatchN  (None, 12, 12, 192)  576        ['conv2d_53[0][0]']              \n",
      " ormalization)                                                                                    \n",
      "                                                                                                  \n",
      " batch_normalization_58 (BatchN  (None, 12, 12, 192)  576        ['conv2d_58[0][0]']              \n",
      " ormalization)                                                                                    \n",
      "                                                                                                  \n",
      " batch_normalization_59 (BatchN  (None, 12, 12, 192)  576        ['conv2d_59[0][0]']              \n",
      " ormalization)                                                                                    \n",
      "                                                                                                  \n",
      " activation_50 (Activation)     (None, 12, 12, 192)  0           ['batch_normalization_50[0][0]'] \n",
      "                                                                                                  \n",
      " activation_53 (Activation)     (None, 12, 12, 192)  0           ['batch_normalization_53[0][0]'] \n",
      "                                                                                                  \n",
      " activation_58 (Activation)     (None, 12, 12, 192)  0           ['batch_normalization_58[0][0]'] \n",
      "                                                                                                  \n",
      " activation_59 (Activation)     (None, 12, 12, 192)  0           ['batch_normalization_59[0][0]'] \n",
      "                                                                                                  \n",
      " mixed6 (Concatenate)           (None, 12, 12, 768)  0           ['activation_50[0][0]',          \n",
      "                                                                  'activation_53[0][0]',          \n",
      "                                                                  'activation_58[0][0]',          \n",
      "                                                                  'activation_59[0][0]']          \n",
      "                                                                                                  \n",
      " conv2d_64 (Conv2D)             (None, 12, 12, 192)  147456      ['mixed6[0][0]']                 \n",
      "                                                                                                  \n",
      " batch_normalization_64 (BatchN  (None, 12, 12, 192)  576        ['conv2d_64[0][0]']              \n",
      " ormalization)                                                                                    \n",
      "                                                                                                  \n",
      " activation_64 (Activation)     (None, 12, 12, 192)  0           ['batch_normalization_64[0][0]'] \n"
     ]
    },
    {
     "name": "stdout",
     "output_type": "stream",
     "text": [
      "                                                                                                  \n",
      " conv2d_65 (Conv2D)             (None, 12, 12, 192)  258048      ['activation_64[0][0]']          \n",
      "                                                                                                  \n",
      " batch_normalization_65 (BatchN  (None, 12, 12, 192)  576        ['conv2d_65[0][0]']              \n",
      " ormalization)                                                                                    \n",
      "                                                                                                  \n",
      " activation_65 (Activation)     (None, 12, 12, 192)  0           ['batch_normalization_65[0][0]'] \n",
      "                                                                                                  \n",
      " conv2d_61 (Conv2D)             (None, 12, 12, 192)  147456      ['mixed6[0][0]']                 \n",
      "                                                                                                  \n",
      " conv2d_66 (Conv2D)             (None, 12, 12, 192)  258048      ['activation_65[0][0]']          \n",
      "                                                                                                  \n",
      " batch_normalization_61 (BatchN  (None, 12, 12, 192)  576        ['conv2d_61[0][0]']              \n",
      " ormalization)                                                                                    \n",
      "                                                                                                  \n",
      " batch_normalization_66 (BatchN  (None, 12, 12, 192)  576        ['conv2d_66[0][0]']              \n",
      " ormalization)                                                                                    \n",
      "                                                                                                  \n",
      " activation_61 (Activation)     (None, 12, 12, 192)  0           ['batch_normalization_61[0][0]'] \n",
      "                                                                                                  \n",
      " activation_66 (Activation)     (None, 12, 12, 192)  0           ['batch_normalization_66[0][0]'] \n",
      "                                                                                                  \n",
      " conv2d_62 (Conv2D)             (None, 12, 12, 192)  258048      ['activation_61[0][0]']          \n",
      "                                                                                                  \n",
      " conv2d_67 (Conv2D)             (None, 12, 12, 192)  258048      ['activation_66[0][0]']          \n",
      "                                                                                                  \n",
      " batch_normalization_62 (BatchN  (None, 12, 12, 192)  576        ['conv2d_62[0][0]']              \n",
      " ormalization)                                                                                    \n",
      "                                                                                                  \n",
      " batch_normalization_67 (BatchN  (None, 12, 12, 192)  576        ['conv2d_67[0][0]']              \n",
      " ormalization)                                                                                    \n",
      "                                                                                                  \n",
      " activation_62 (Activation)     (None, 12, 12, 192)  0           ['batch_normalization_62[0][0]'] \n",
      "                                                                                                  \n",
      " activation_67 (Activation)     (None, 12, 12, 192)  0           ['batch_normalization_67[0][0]'] \n",
      "                                                                                                  \n",
      " average_pooling2d_6 (AveragePo  (None, 12, 12, 768)  0          ['mixed6[0][0]']                 \n",
      " oling2D)                                                                                         \n",
      "                                                                                                  \n",
      " conv2d_60 (Conv2D)             (None, 12, 12, 192)  147456      ['mixed6[0][0]']                 \n",
      "                                                                                                  \n",
      " conv2d_63 (Conv2D)             (None, 12, 12, 192)  258048      ['activation_62[0][0]']          \n",
      "                                                                                                  \n",
      " conv2d_68 (Conv2D)             (None, 12, 12, 192)  258048      ['activation_67[0][0]']          \n",
      "                                                                                                  \n",
      " conv2d_69 (Conv2D)             (None, 12, 12, 192)  147456      ['average_pooling2d_6[0][0]']    \n",
      "                                                                                                  \n",
      " batch_normalization_60 (BatchN  (None, 12, 12, 192)  576        ['conv2d_60[0][0]']              \n",
      " ormalization)                                                                                    \n",
      "                                                                                                  \n",
      " batch_normalization_63 (BatchN  (None, 12, 12, 192)  576        ['conv2d_63[0][0]']              \n",
      " ormalization)                                                                                    \n",
      "                                                                                                  \n",
      " batch_normalization_68 (BatchN  (None, 12, 12, 192)  576        ['conv2d_68[0][0]']              \n",
      " ormalization)                                                                                    \n",
      "                                                                                                  \n",
      " batch_normalization_69 (BatchN  (None, 12, 12, 192)  576        ['conv2d_69[0][0]']              \n",
      " ormalization)                                                                                    \n",
      "                                                                                                  \n",
      " activation_60 (Activation)     (None, 12, 12, 192)  0           ['batch_normalization_60[0][0]'] \n",
      "                                                                                                  \n",
      " activation_63 (Activation)     (None, 12, 12, 192)  0           ['batch_normalization_63[0][0]'] \n",
      "                                                                                                  \n",
      " activation_68 (Activation)     (None, 12, 12, 192)  0           ['batch_normalization_68[0][0]'] \n",
      "                                                                                                  \n",
      " activation_69 (Activation)     (None, 12, 12, 192)  0           ['batch_normalization_69[0][0]'] \n",
      "                                                                                                  \n",
      " mixed7 (Concatenate)           (None, 12, 12, 768)  0           ['activation_60[0][0]',          \n",
      "                                                                  'activation_63[0][0]',          \n",
      "                                                                  'activation_68[0][0]',          \n",
      "                                                                  'activation_69[0][0]']          \n",
      "                                                                                                  \n",
      " conv2d_72 (Conv2D)             (None, 12, 12, 192)  147456      ['mixed7[0][0]']                 \n",
      "                                                                                                  \n",
      " batch_normalization_72 (BatchN  (None, 12, 12, 192)  576        ['conv2d_72[0][0]']              \n",
      " ormalization)                                                                                    \n",
      "                                                                                                  \n",
      " activation_72 (Activation)     (None, 12, 12, 192)  0           ['batch_normalization_72[0][0]'] \n",
      "                                                                                                  \n",
      " conv2d_73 (Conv2D)             (None, 12, 12, 192)  258048      ['activation_72[0][0]']          \n",
      "                                                                                                  \n",
      " batch_normalization_73 (BatchN  (None, 12, 12, 192)  576        ['conv2d_73[0][0]']              \n",
      " ormalization)                                                                                    \n"
     ]
    },
    {
     "name": "stdout",
     "output_type": "stream",
     "text": [
      "                                                                                                  \n",
      " activation_73 (Activation)     (None, 12, 12, 192)  0           ['batch_normalization_73[0][0]'] \n",
      "                                                                                                  \n",
      " conv2d_70 (Conv2D)             (None, 12, 12, 192)  147456      ['mixed7[0][0]']                 \n",
      "                                                                                                  \n",
      " conv2d_74 (Conv2D)             (None, 12, 12, 192)  258048      ['activation_73[0][0]']          \n",
      "                                                                                                  \n",
      " batch_normalization_70 (BatchN  (None, 12, 12, 192)  576        ['conv2d_70[0][0]']              \n",
      " ormalization)                                                                                    \n",
      "                                                                                                  \n",
      " batch_normalization_74 (BatchN  (None, 12, 12, 192)  576        ['conv2d_74[0][0]']              \n",
      " ormalization)                                                                                    \n",
      "                                                                                                  \n",
      " activation_70 (Activation)     (None, 12, 12, 192)  0           ['batch_normalization_70[0][0]'] \n",
      "                                                                                                  \n",
      " activation_74 (Activation)     (None, 12, 12, 192)  0           ['batch_normalization_74[0][0]'] \n",
      "                                                                                                  \n",
      " conv2d_71 (Conv2D)             (None, 5, 5, 320)    552960      ['activation_70[0][0]']          \n",
      "                                                                                                  \n",
      " conv2d_75 (Conv2D)             (None, 5, 5, 192)    331776      ['activation_74[0][0]']          \n",
      "                                                                                                  \n",
      " batch_normalization_71 (BatchN  (None, 5, 5, 320)   960         ['conv2d_71[0][0]']              \n",
      " ormalization)                                                                                    \n",
      "                                                                                                  \n",
      " batch_normalization_75 (BatchN  (None, 5, 5, 192)   576         ['conv2d_75[0][0]']              \n",
      " ormalization)                                                                                    \n",
      "                                                                                                  \n",
      " activation_71 (Activation)     (None, 5, 5, 320)    0           ['batch_normalization_71[0][0]'] \n",
      "                                                                                                  \n",
      " activation_75 (Activation)     (None, 5, 5, 192)    0           ['batch_normalization_75[0][0]'] \n",
      "                                                                                                  \n",
      " max_pooling2d_3 (MaxPooling2D)  (None, 5, 5, 768)   0           ['mixed7[0][0]']                 \n",
      "                                                                                                  \n",
      " mixed8 (Concatenate)           (None, 5, 5, 1280)   0           ['activation_71[0][0]',          \n",
      "                                                                  'activation_75[0][0]',          \n",
      "                                                                  'max_pooling2d_3[0][0]']        \n",
      "                                                                                                  \n",
      " conv2d_80 (Conv2D)             (None, 5, 5, 448)    573440      ['mixed8[0][0]']                 \n",
      "                                                                                                  \n",
      " batch_normalization_80 (BatchN  (None, 5, 5, 448)   1344        ['conv2d_80[0][0]']              \n",
      " ormalization)                                                                                    \n",
      "                                                                                                  \n",
      " activation_80 (Activation)     (None, 5, 5, 448)    0           ['batch_normalization_80[0][0]'] \n",
      "                                                                                                  \n",
      " conv2d_77 (Conv2D)             (None, 5, 5, 384)    491520      ['mixed8[0][0]']                 \n",
      "                                                                                                  \n",
      " conv2d_81 (Conv2D)             (None, 5, 5, 384)    1548288     ['activation_80[0][0]']          \n",
      "                                                                                                  \n",
      " batch_normalization_77 (BatchN  (None, 5, 5, 384)   1152        ['conv2d_77[0][0]']              \n",
      " ormalization)                                                                                    \n",
      "                                                                                                  \n",
      " batch_normalization_81 (BatchN  (None, 5, 5, 384)   1152        ['conv2d_81[0][0]']              \n",
      " ormalization)                                                                                    \n",
      "                                                                                                  \n",
      " activation_77 (Activation)     (None, 5, 5, 384)    0           ['batch_normalization_77[0][0]'] \n",
      "                                                                                                  \n",
      " activation_81 (Activation)     (None, 5, 5, 384)    0           ['batch_normalization_81[0][0]'] \n",
      "                                                                                                  \n",
      " conv2d_78 (Conv2D)             (None, 5, 5, 384)    442368      ['activation_77[0][0]']          \n",
      "                                                                                                  \n",
      " conv2d_79 (Conv2D)             (None, 5, 5, 384)    442368      ['activation_77[0][0]']          \n",
      "                                                                                                  \n",
      " conv2d_82 (Conv2D)             (None, 5, 5, 384)    442368      ['activation_81[0][0]']          \n",
      "                                                                                                  \n",
      " conv2d_83 (Conv2D)             (None, 5, 5, 384)    442368      ['activation_81[0][0]']          \n",
      "                                                                                                  \n",
      " average_pooling2d_7 (AveragePo  (None, 5, 5, 1280)  0           ['mixed8[0][0]']                 \n",
      " oling2D)                                                                                         \n",
      "                                                                                                  \n",
      " conv2d_76 (Conv2D)             (None, 5, 5, 320)    409600      ['mixed8[0][0]']                 \n",
      "                                                                                                  \n",
      " batch_normalization_78 (BatchN  (None, 5, 5, 384)   1152        ['conv2d_78[0][0]']              \n",
      " ormalization)                                                                                    \n",
      "                                                                                                  \n",
      " batch_normalization_79 (BatchN  (None, 5, 5, 384)   1152        ['conv2d_79[0][0]']              \n",
      " ormalization)                                                                                    \n",
      "                                                                                                  \n",
      " batch_normalization_82 (BatchN  (None, 5, 5, 384)   1152        ['conv2d_82[0][0]']              \n",
      " ormalization)                                                                                    \n",
      "                                                                                                  \n",
      " batch_normalization_83 (BatchN  (None, 5, 5, 384)   1152        ['conv2d_83[0][0]']              \n",
      " ormalization)                                                                                    \n",
      "                                                                                                  \n"
     ]
    },
    {
     "name": "stdout",
     "output_type": "stream",
     "text": [
      " conv2d_84 (Conv2D)             (None, 5, 5, 192)    245760      ['average_pooling2d_7[0][0]']    \n",
      "                                                                                                  \n",
      " batch_normalization_76 (BatchN  (None, 5, 5, 320)   960         ['conv2d_76[0][0]']              \n",
      " ormalization)                                                                                    \n",
      "                                                                                                  \n",
      " activation_78 (Activation)     (None, 5, 5, 384)    0           ['batch_normalization_78[0][0]'] \n",
      "                                                                                                  \n",
      " activation_79 (Activation)     (None, 5, 5, 384)    0           ['batch_normalization_79[0][0]'] \n",
      "                                                                                                  \n",
      " activation_82 (Activation)     (None, 5, 5, 384)    0           ['batch_normalization_82[0][0]'] \n",
      "                                                                                                  \n",
      " activation_83 (Activation)     (None, 5, 5, 384)    0           ['batch_normalization_83[0][0]'] \n",
      "                                                                                                  \n",
      " batch_normalization_84 (BatchN  (None, 5, 5, 192)   576         ['conv2d_84[0][0]']              \n",
      " ormalization)                                                                                    \n",
      "                                                                                                  \n",
      " activation_76 (Activation)     (None, 5, 5, 320)    0           ['batch_normalization_76[0][0]'] \n",
      "                                                                                                  \n",
      " mixed9_0 (Concatenate)         (None, 5, 5, 768)    0           ['activation_78[0][0]',          \n",
      "                                                                  'activation_79[0][0]']          \n",
      "                                                                                                  \n",
      " concatenate (Concatenate)      (None, 5, 5, 768)    0           ['activation_82[0][0]',          \n",
      "                                                                  'activation_83[0][0]']          \n",
      "                                                                                                  \n",
      " activation_84 (Activation)     (None, 5, 5, 192)    0           ['batch_normalization_84[0][0]'] \n",
      "                                                                                                  \n",
      " mixed9 (Concatenate)           (None, 5, 5, 2048)   0           ['activation_76[0][0]',          \n",
      "                                                                  'mixed9_0[0][0]',               \n",
      "                                                                  'concatenate[0][0]',            \n",
      "                                                                  'activation_84[0][0]']          \n",
      "                                                                                                  \n",
      " conv2d_89 (Conv2D)             (None, 5, 5, 448)    917504      ['mixed9[0][0]']                 \n",
      "                                                                                                  \n",
      " batch_normalization_89 (BatchN  (None, 5, 5, 448)   1344        ['conv2d_89[0][0]']              \n",
      " ormalization)                                                                                    \n",
      "                                                                                                  \n",
      " activation_89 (Activation)     (None, 5, 5, 448)    0           ['batch_normalization_89[0][0]'] \n",
      "                                                                                                  \n",
      " conv2d_86 (Conv2D)             (None, 5, 5, 384)    786432      ['mixed9[0][0]']                 \n",
      "                                                                                                  \n",
      " conv2d_90 (Conv2D)             (None, 5, 5, 384)    1548288     ['activation_89[0][0]']          \n",
      "                                                                                                  \n",
      " batch_normalization_86 (BatchN  (None, 5, 5, 384)   1152        ['conv2d_86[0][0]']              \n",
      " ormalization)                                                                                    \n",
      "                                                                                                  \n",
      " batch_normalization_90 (BatchN  (None, 5, 5, 384)   1152        ['conv2d_90[0][0]']              \n",
      " ormalization)                                                                                    \n",
      "                                                                                                  \n",
      " activation_86 (Activation)     (None, 5, 5, 384)    0           ['batch_normalization_86[0][0]'] \n",
      "                                                                                                  \n",
      " activation_90 (Activation)     (None, 5, 5, 384)    0           ['batch_normalization_90[0][0]'] \n",
      "                                                                                                  \n",
      " conv2d_87 (Conv2D)             (None, 5, 5, 384)    442368      ['activation_86[0][0]']          \n",
      "                                                                                                  \n",
      " conv2d_88 (Conv2D)             (None, 5, 5, 384)    442368      ['activation_86[0][0]']          \n",
      "                                                                                                  \n",
      " conv2d_91 (Conv2D)             (None, 5, 5, 384)    442368      ['activation_90[0][0]']          \n",
      "                                                                                                  \n",
      " conv2d_92 (Conv2D)             (None, 5, 5, 384)    442368      ['activation_90[0][0]']          \n",
      "                                                                                                  \n",
      " average_pooling2d_8 (AveragePo  (None, 5, 5, 2048)  0           ['mixed9[0][0]']                 \n",
      " oling2D)                                                                                         \n",
      "                                                                                                  \n",
      " conv2d_85 (Conv2D)             (None, 5, 5, 320)    655360      ['mixed9[0][0]']                 \n",
      "                                                                                                  \n",
      " batch_normalization_87 (BatchN  (None, 5, 5, 384)   1152        ['conv2d_87[0][0]']              \n",
      " ormalization)                                                                                    \n",
      "                                                                                                  \n",
      " batch_normalization_88 (BatchN  (None, 5, 5, 384)   1152        ['conv2d_88[0][0]']              \n",
      " ormalization)                                                                                    \n",
      "                                                                                                  \n",
      " batch_normalization_91 (BatchN  (None, 5, 5, 384)   1152        ['conv2d_91[0][0]']              \n",
      " ormalization)                                                                                    \n",
      "                                                                                                  \n",
      " batch_normalization_92 (BatchN  (None, 5, 5, 384)   1152        ['conv2d_92[0][0]']              \n",
      " ormalization)                                                                                    \n",
      "                                                                                                  \n",
      " conv2d_93 (Conv2D)             (None, 5, 5, 192)    393216      ['average_pooling2d_8[0][0]']    \n",
      "                                                                                                  \n",
      " batch_normalization_85 (BatchN  (None, 5, 5, 320)   960         ['conv2d_85[0][0]']              \n",
      " ormalization)                                                                                    \n",
      "                                                                                                  \n",
      " activation_87 (Activation)     (None, 5, 5, 384)    0           ['batch_normalization_87[0][0]'] \n"
     ]
    },
    {
     "name": "stdout",
     "output_type": "stream",
     "text": [
      "                                                                                                  \n",
      " activation_88 (Activation)     (None, 5, 5, 384)    0           ['batch_normalization_88[0][0]'] \n",
      "                                                                                                  \n",
      " activation_91 (Activation)     (None, 5, 5, 384)    0           ['batch_normalization_91[0][0]'] \n",
      "                                                                                                  \n",
      " activation_92 (Activation)     (None, 5, 5, 384)    0           ['batch_normalization_92[0][0]'] \n",
      "                                                                                                  \n",
      " batch_normalization_93 (BatchN  (None, 5, 5, 192)   576         ['conv2d_93[0][0]']              \n",
      " ormalization)                                                                                    \n",
      "                                                                                                  \n",
      " activation_85 (Activation)     (None, 5, 5, 320)    0           ['batch_normalization_85[0][0]'] \n",
      "                                                                                                  \n",
      " mixed9_1 (Concatenate)         (None, 5, 5, 768)    0           ['activation_87[0][0]',          \n",
      "                                                                  'activation_88[0][0]']          \n",
      "                                                                                                  \n",
      " concatenate_1 (Concatenate)    (None, 5, 5, 768)    0           ['activation_91[0][0]',          \n",
      "                                                                  'activation_92[0][0]']          \n",
      "                                                                                                  \n",
      " activation_93 (Activation)     (None, 5, 5, 192)    0           ['batch_normalization_93[0][0]'] \n",
      "                                                                                                  \n",
      " mixed10 (Concatenate)          (None, 5, 5, 2048)   0           ['activation_85[0][0]',          \n",
      "                                                                  'mixed9_1[0][0]',               \n",
      "                                                                  'concatenate_1[0][0]',          \n",
      "                                                                  'activation_93[0][0]']          \n",
      "                                                                                                  \n",
      " average_pooling2d_9 (AveragePo  (None, 1, 1, 2048)  0           ['mixed10[0][0]']                \n",
      " oling2D)                                                                                         \n",
      "                                                                                                  \n",
      " time_distributed (TimeDistribu  (None, 1, 2048)     0           ['average_pooling2d_9[0][0]']    \n",
      " ted)                                                                                             \n",
      "                                                                                                  \n",
      " lstm (LSTM)                    (None, 512)          5244928     ['time_distributed[0][0]']       \n",
      "                                                                                                  \n",
      " batch_normalization_94 (BatchN  (None, 512)         2048        ['lstm[0][0]']                   \n",
      " ormalization)                                                                                    \n",
      "                                                                                                  \n",
      " dropout (Dropout)              (None, 512)          0           ['batch_normalization_94[0][0]'] \n",
      "                                                                                                  \n",
      " dense (Dense)                  (None, 128)          65664       ['dropout[0][0]']                \n",
      "                                                                                                  \n",
      " dropout_1 (Dropout)            (None, 128)          0           ['dense[0][0]']                  \n",
      "                                                                                                  \n",
      " dense_1 (Dense)                (None, 128)          16512       ['dropout_1[0][0]']              \n",
      "                                                                                                  \n",
      " dropout_2 (Dropout)            (None, 128)          0           ['dense_1[0][0]']                \n",
      "                                                                                                  \n",
      " dense_2 (Dense)                (None, 2)            258         ['dropout_2[0][0]']              \n",
      "                                                                                                  \n",
      "==================================================================================================\n",
      "Total params: 27,132,194\n",
      "Trainable params: 5,328,386\n",
      "Non-trainable params: 21,803,808\n",
      "__________________________________________________________________________________________________\n"
     ]
    }
   ],
   "source": [
    "bmodel = InceptionV3(include_top=False, weights='imagenet', input_tensor=Input(shape=(224, 224, 3)))\n",
    "hmodel = Sequential()\n",
    "hmodel = bmodel.output\n",
    "hmodel = AveragePooling2D(pool_size = (3,3))(hmodel)\n",
    "hmodel = TimeDistributed(Flatten())(hmodel)\n",
    "\n",
    "# The only layers we need to train\n",
    "# This is the layers' illustration https://www.google.com/url?sa=i&url=https%3A%2F%2Ftowardsdatascience.com%2Fthe-most-intuitive-and-easiest-guide-for-convolutional-neural-network-3607be47480&psig=AOvVaw0CYHQ2oruhWMmKK2Lxm5cN&ust=1668996857968000&source=images&cd=vfe&ved=0CBAQjRxqFwoTCLDJs9TYu_sCFQAAAAAdAAAAABAU\n",
    "hmodel = LSTM(512, dropout=0.5,  recurrent_dropout=0.5)(hmodel)\n",
    "hmodel = BatchNormalization()(hmodel)\n",
    "hmodel = Dropout(0.25)(hmodel)\n",
    "hmodel = Dense(128, activation = \"relu\")(hmodel)\n",
    "hmodel = Dropout(0.25)(hmodel)\n",
    "hmodel = Dense(128, activation = \"relu\")(hmodel)\n",
    "hmodel = Dropout(0.25)(hmodel)\n",
    "\n",
    "hmodel = Dense(2, activation='sigmoid')(hmodel)\n",
    "\n",
    "modelInc = Model(inputs=bmodel.input, outputs=hmodel)\n",
    "\n",
    "for layer in bmodel.layers:\n",
    "    layer.trainable = False\n",
    "\n",
    "modelInc.summary()"
   ]
  },
  {
   "cell_type": "code",
   "execution_count": 61,
   "id": "1dda3d90",
   "metadata": {
    "scrolled": true
   },
   "outputs": [
    {
     "name": "stdout",
     "output_type": "stream",
     "text": [
      "WARNING:tensorflow:Layer lstm_3 will not use cuDNN kernels since it doesn't meet the criteria. It will use a generic GPU kernel as fallback when running on GPU.\n",
      "Model: \"model_3\"\n",
      "_________________________________________________________________\n",
      " Layer (type)                Output Shape              Param #   \n",
      "=================================================================\n",
      " input_4 (InputLayer)        [(None, 224, 224, 3)]     0         \n",
      "                                                                 \n",
      " block1_conv1 (Conv2D)       (None, 224, 224, 64)      1792      \n",
      "                                                                 \n",
      " block1_conv2 (Conv2D)       (None, 224, 224, 64)      36928     \n",
      "                                                                 \n",
      " block1_pool (MaxPooling2D)  (None, 112, 112, 64)      0         \n",
      "                                                                 \n",
      " block2_conv1 (Conv2D)       (None, 112, 112, 128)     73856     \n",
      "                                                                 \n",
      " block2_conv2 (Conv2D)       (None, 112, 112, 128)     147584    \n",
      "                                                                 \n",
      " block2_pool (MaxPooling2D)  (None, 56, 56, 128)       0         \n",
      "                                                                 \n",
      " block3_conv1 (Conv2D)       (None, 56, 56, 256)       295168    \n",
      "                                                                 \n",
      " block3_conv2 (Conv2D)       (None, 56, 56, 256)       590080    \n",
      "                                                                 \n",
      " block3_conv3 (Conv2D)       (None, 56, 56, 256)       590080    \n",
      "                                                                 \n",
      " block3_conv4 (Conv2D)       (None, 56, 56, 256)       590080    \n",
      "                                                                 \n",
      " block3_pool (MaxPooling2D)  (None, 28, 28, 256)       0         \n",
      "                                                                 \n",
      " block4_conv1 (Conv2D)       (None, 28, 28, 512)       1180160   \n",
      "                                                                 \n",
      " block4_conv2 (Conv2D)       (None, 28, 28, 512)       2359808   \n",
      "                                                                 \n",
      " block4_conv3 (Conv2D)       (None, 28, 28, 512)       2359808   \n",
      "                                                                 \n",
      " block4_conv4 (Conv2D)       (None, 28, 28, 512)       2359808   \n",
      "                                                                 \n",
      " block4_pool (MaxPooling2D)  (None, 14, 14, 512)       0         \n",
      "                                                                 \n",
      " block5_conv1 (Conv2D)       (None, 14, 14, 512)       2359808   \n",
      "                                                                 \n",
      " block5_conv2 (Conv2D)       (None, 14, 14, 512)       2359808   \n",
      "                                                                 \n",
      " block5_conv3 (Conv2D)       (None, 14, 14, 512)       2359808   \n",
      "                                                                 \n",
      " block5_conv4 (Conv2D)       (None, 14, 14, 512)       2359808   \n",
      "                                                                 \n",
      " block5_pool (MaxPooling2D)  (None, 7, 7, 512)         0         \n",
      "                                                                 \n",
      " average_pooling2d_12 (Avera  (None, 2, 2, 512)        0         \n",
      " gePooling2D)                                                    \n",
      "                                                                 \n",
      " time_distributed_3 (TimeDis  (None, 2, 1024)          0         \n",
      " tributed)                                                       \n",
      "                                                                 \n",
      " lstm_3 (LSTM)               (None, 512)               3147776   \n",
      "                                                                 \n",
      " batch_normalization_97 (Bat  (None, 512)              2048      \n",
      " chNormalization)                                                \n",
      "                                                                 \n",
      " dropout_9 (Dropout)         (None, 512)               0         \n",
      "                                                                 \n",
      " dense_9 (Dense)             (None, 128)               65664     \n",
      "                                                                 \n",
      " dropout_10 (Dropout)        (None, 128)               0         \n",
      "                                                                 \n",
      " dense_10 (Dense)            (None, 128)               16512     \n",
      "                                                                 \n",
      " dropout_11 (Dropout)        (None, 128)               0         \n",
      "                                                                 \n",
      " dense_11 (Dense)            (None, 2)                 258       \n",
      "                                                                 \n",
      "=================================================================\n",
      "Total params: 23,256,642\n",
      "Trainable params: 3,231,234\n",
      "Non-trainable params: 20,025,408\n",
      "_________________________________________________________________\n"
     ]
    }
   ],
   "source": [
    "bmodelVGG = VGG19(include_top=False, weights='imagenet', input_tensor=Input(shape=(224, 224, 3)))\n",
    "hmodel1 = Sequential()\n",
    "hmodel1 = bmodelVGG.output \n",
    "hmodel1 = AveragePooling2D(pool_size =(3,3))(hmodel1)\n",
    "hmodel1 = TimeDistributed(Flatten())(hmodel1)\n",
    "\n",
    "#Train this layer \n",
    "hmodel1 = LSTM(512, dropout=0.5,  recurrent_dropout=0.5)(hmodel1)\n",
    "hmodel1 = BatchNormalization()(hmodel1)\n",
    "hmodel1 = Dropout(0.25)(hmodel1)\n",
    "hmodel1 = Dense(128, activation = \"relu\")(hmodel1)\n",
    "hmodel1 = Dropout(0.25)(hmodel1)\n",
    "hmodel1 = Dense(128, activation = \"relu\")(hmodel1)\n",
    "hmodel1 = Dropout(0.25)(hmodel1)\n",
    "hmodel1 = Dense(2, activation='sigmoid')(hmodel1)\n",
    "modelVGG = Model(inputs=bmodelVGG.input, outputs=hmodel1)\n",
    "\n",
    "for layer in bmodelVGG.layers:\n",
    "    layer.trainable = False\n",
    "modelVGG.summary()"
   ]
  },
  {
   "cell_type": "markdown",
   "id": "3adccfbd",
   "metadata": {},
   "source": [
    "# Train Model"
   ]
  },
  {
   "cell_type": "code",
   "execution_count": 13,
   "id": "b28f40ba",
   "metadata": {},
   "outputs": [],
   "source": [
    "from tensorflow.keras.optimizers import Adam\n",
    "from tensorflow.keras.callbacks import ModelCheckpoint, EarlyStopping, ReduceLROnPlateau"
   ]
  },
  {
   "cell_type": "code",
   "execution_count": 62,
   "id": "000a78ee",
   "metadata": {},
   "outputs": [],
   "source": [
    "opt = Adam(learning_rate=1e-5, decay=1e-5 /50)\n",
    "modelInc.compile(optimizer=opt, loss='categorical_crossentropy', metrics=['accuracy'])\n",
    "modelVGG.compile(optimizer=opt, loss='categorical_crossentropy', metrics=['accuracy'])"
   ]
  },
  {
   "cell_type": "code",
   "execution_count": 15,
   "id": "79b9dff4",
   "metadata": {},
   "outputs": [],
   "source": [
    "esInc = EarlyStopping(monitor='val_loss', \n",
    "                      min_delta = 0.01, \n",
    "                      patience= 8, verbose = 1, \n",
    "                      mode='auto')\n",
    "\n",
    "mcInc = ModelCheckpoint(monitor='val_loss', \n",
    "                        filepath = \"bestModel/IncModel.h5\", \n",
    "                        verbose = 1, \n",
    "                        save_best_only=True,  \n",
    "                        mode='auto')\n",
    "\n",
    "learning_rateInc = ReduceLROnPlateau(monitor='val_loss', \n",
    "                                     factor=0.2,  \n",
    "                                     patience=3, \n",
    "                                     verbose=1 ,\n",
    "                                     min_lr=0.00001\n",
    "                                     ,cooldown=1 )\n",
    "\n",
    "cdInc = [esInc,mcInc , learning_rateInc]"
   ]
  },
  {
   "cell_type": "code",
   "execution_count": 63,
   "id": "56b4af64",
   "metadata": {},
   "outputs": [],
   "source": [
    "esVGG = EarlyStopping(monitor='val_loss', \n",
    "                      min_delta = 0.01, \n",
    "                      patience= 8, \n",
    "                      verbose = 1, \n",
    "                      mode='auto')\n",
    "\n",
    "mcVGG = ModelCheckpoint(monitor='val_loss', \n",
    "                        filepath = \"bestModel/VGGModel.h5\", \n",
    "                        verbose = 1, save_best_only=True,  \n",
    "                        mode='auto')\n",
    "\n",
    "learning_rateVGG = ReduceLROnPlateau(monitor='val_loss', \n",
    "                                     factor=0.2,  \n",
    "                                     patience=3, \n",
    "                                     verbose=1 ,\n",
    "                                     min_lr=0.00001,\n",
    "                                     cooldown=1 )\n",
    "\n",
    "cdVGG = [esVGG,mcVGG, learning_rateVGG]"
   ]
  },
  {
   "cell_type": "code",
   "execution_count": 16,
   "id": "97612ebd",
   "metadata": {
    "scrolled": false
   },
   "outputs": [
    {
     "name": "stdout",
     "output_type": "stream",
     "text": [
      "Epoch 1/50\n"
     ]
    },
    {
     "name": "stderr",
     "output_type": "stream",
     "text": [
      "C:\\Users\\igosa\\AppData\\Local\\Temp\\ipykernel_19328\\2929962471.py:1: UserWarning: `Model.fit_generator` is deprecated and will be removed in a future version. Please use `Model.fit`, which supports generators.\n",
      "  hsInc = modelInc.fit_generator(generator = train_data,\n"
     ]
    },
    {
     "name": "stdout",
     "output_type": "stream",
     "text": [
      "277/277 [==============================] - ETA: 0s - loss: 0.7944 - accuracy: 0.5957\n",
      "Epoch 1: val_loss improved from inf to 0.51068, saving model to bestModel\\IncModel.h5\n",
      "277/277 [==============================] - 33s 87ms/step - loss: 0.7944 - accuracy: 0.5957 - val_loss: 0.5107 - val_accuracy: 0.8962 - lr: 1.0000e-05\n",
      "Epoch 2/50\n",
      "277/277 [==============================] - ETA: 0s - loss: 0.6104 - accuracy: 0.7004\n",
      "Epoch 2: val_loss improved from 0.51068 to 0.31377, saving model to bestModel\\IncModel.h5\n",
      "277/277 [==============================] - 22s 81ms/step - loss: 0.6104 - accuracy: 0.7004 - val_loss: 0.3138 - val_accuracy: 0.9258 - lr: 1.0000e-05\n",
      "Epoch 3/50\n",
      "277/277 [==============================] - ETA: 0s - loss: 0.4978 - accuracy: 0.7717\n",
      "Epoch 3: val_loss improved from 0.31377 to 0.25976, saving model to bestModel\\IncModel.h5\n",
      "277/277 [==============================] - 23s 81ms/step - loss: 0.4978 - accuracy: 0.7717 - val_loss: 0.2598 - val_accuracy: 0.9322 - lr: 1.0000e-05\n",
      "Epoch 4/50\n",
      "277/277 [==============================] - ETA: 0s - loss: 0.4741 - accuracy: 0.7884\n",
      "Epoch 4: val_loss improved from 0.25976 to 0.22863, saving model to bestModel\\IncModel.h5\n",
      "277/277 [==============================] - 23s 83ms/step - loss: 0.4741 - accuracy: 0.7884 - val_loss: 0.2286 - val_accuracy: 0.9364 - lr: 1.0000e-05\n",
      "Epoch 5/50\n",
      "277/277 [==============================] - ETA: 0s - loss: 0.4306 - accuracy: 0.8190\n",
      "Epoch 5: val_loss improved from 0.22863 to 0.21504, saving model to bestModel\\IncModel.h5\n",
      "277/277 [==============================] - 22s 80ms/step - loss: 0.4306 - accuracy: 0.8190 - val_loss: 0.2150 - val_accuracy: 0.9407 - lr: 1.0000e-05\n",
      "Epoch 6/50\n",
      "277/277 [==============================] - ETA: 0s - loss: 0.4191 - accuracy: 0.8335\n",
      "Epoch 6: val_loss improved from 0.21504 to 0.20462, saving model to bestModel\\IncModel.h5\n",
      "277/277 [==============================] - 22s 80ms/step - loss: 0.4191 - accuracy: 0.8335 - val_loss: 0.2046 - val_accuracy: 0.9428 - lr: 1.0000e-05\n",
      "Epoch 7/50\n",
      "277/277 [==============================] - ETA: 0s - loss: 0.3782 - accuracy: 0.8448\n",
      "Epoch 7: val_loss improved from 0.20462 to 0.19817, saving model to bestModel\\IncModel.h5\n",
      "277/277 [==============================] - 23s 81ms/step - loss: 0.3782 - accuracy: 0.8448 - val_loss: 0.1982 - val_accuracy: 0.9428 - lr: 1.0000e-05\n",
      "Epoch 8/50\n",
      "277/277 [==============================] - ETA: 0s - loss: 0.3632 - accuracy: 0.8551\n",
      "Epoch 8: val_loss improved from 0.19817 to 0.19167, saving model to bestModel\\IncModel.h5\n",
      "277/277 [==============================] - 22s 81ms/step - loss: 0.3632 - accuracy: 0.8551 - val_loss: 0.1917 - val_accuracy: 0.9428 - lr: 1.0000e-05\n",
      "Epoch 9/50\n",
      "277/277 [==============================] - ETA: 0s - loss: 0.3734 - accuracy: 0.8502\n",
      "Epoch 9: val_loss improved from 0.19167 to 0.18678, saving model to bestModel\\IncModel.h5\n",
      "277/277 [==============================] - 22s 81ms/step - loss: 0.3734 - accuracy: 0.8502 - val_loss: 0.1868 - val_accuracy: 0.9470 - lr: 1.0000e-05\n",
      "Epoch 10/50\n",
      "277/277 [==============================] - ETA: 0s - loss: 0.3675 - accuracy: 0.8479\n",
      "Epoch 10: val_loss improved from 0.18678 to 0.18508, saving model to bestModel\\IncModel.h5\n",
      "277/277 [==============================] - 23s 82ms/step - loss: 0.3675 - accuracy: 0.8479 - val_loss: 0.1851 - val_accuracy: 0.9449 - lr: 1.0000e-05\n",
      "Epoch 11/50\n",
      "277/277 [==============================] - ETA: 0s - loss: 0.3400 - accuracy: 0.8506\n",
      "Epoch 11: val_loss improved from 0.18508 to 0.18190, saving model to bestModel\\IncModel.h5\n",
      "277/277 [==============================] - 22s 81ms/step - loss: 0.3400 - accuracy: 0.8506 - val_loss: 0.1819 - val_accuracy: 0.9492 - lr: 1.0000e-05\n",
      "Epoch 12/50\n",
      "277/277 [==============================] - ETA: 0s - loss: 0.3358 - accuracy: 0.8718\n",
      "Epoch 12: val_loss improved from 0.18190 to 0.17947, saving model to bestModel\\IncModel.h5\n",
      "277/277 [==============================] - 22s 81ms/step - loss: 0.3358 - accuracy: 0.8718 - val_loss: 0.1795 - val_accuracy: 0.9470 - lr: 1.0000e-05\n",
      "Epoch 13/50\n",
      "277/277 [==============================] - ETA: 0s - loss: 0.3034 - accuracy: 0.8723\n",
      "Epoch 13: val_loss improved from 0.17947 to 0.17689, saving model to bestModel\\IncModel.h5\n",
      "277/277 [==============================] - 23s 82ms/step - loss: 0.3034 - accuracy: 0.8723 - val_loss: 0.1769 - val_accuracy: 0.9428 - lr: 1.0000e-05\n",
      "Epoch 14/50\n",
      "277/277 [==============================] - ETA: 0s - loss: 0.3318 - accuracy: 0.8768\n",
      "Epoch 14: val_loss improved from 0.17689 to 0.17276, saving model to bestModel\\IncModel.h5\n",
      "277/277 [==============================] - 23s 81ms/step - loss: 0.3318 - accuracy: 0.8768 - val_loss: 0.1728 - val_accuracy: 0.9428 - lr: 1.0000e-05\n",
      "Epoch 15/50\n",
      "277/277 [==============================] - ETA: 0s - loss: 0.3153 - accuracy: 0.8723\n",
      "Epoch 15: val_loss improved from 0.17276 to 0.17110, saving model to bestModel\\IncModel.h5\n",
      "277/277 [==============================] - 22s 81ms/step - loss: 0.3153 - accuracy: 0.8723 - val_loss: 0.1711 - val_accuracy: 0.9470 - lr: 1.0000e-05\n",
      "Epoch 16/50\n",
      "277/277 [==============================] - ETA: 0s - loss: 0.3216 - accuracy: 0.8705\n",
      "Epoch 16: val_loss improved from 0.17110 to 0.16948, saving model to bestModel\\IncModel.h5\n",
      "277/277 [==============================] - 23s 82ms/step - loss: 0.3216 - accuracy: 0.8705 - val_loss: 0.1695 - val_accuracy: 0.9470 - lr: 1.0000e-05\n",
      "Epoch 17/50\n",
      "277/277 [==============================] - ETA: 0s - loss: 0.2989 - accuracy: 0.8764\n",
      "Epoch 17: val_loss improved from 0.16948 to 0.16304, saving model to bestModel\\IncModel.h5\n",
      "277/277 [==============================] - 23s 81ms/step - loss: 0.2989 - accuracy: 0.8764 - val_loss: 0.1630 - val_accuracy: 0.9513 - lr: 1.0000e-05\n",
      "Epoch 18/50\n",
      "277/277 [==============================] - ETA: 0s - loss: 0.3061 - accuracy: 0.8764\n",
      "Epoch 18: val_loss improved from 0.16304 to 0.16019, saving model to bestModel\\IncModel.h5\n",
      "277/277 [==============================] - 22s 81ms/step - loss: 0.3061 - accuracy: 0.8764 - val_loss: 0.1602 - val_accuracy: 0.9534 - lr: 1.0000e-05\n",
      "Epoch 19/50\n",
      "277/277 [==============================] - ETA: 0s - loss: 0.2890 - accuracy: 0.8822\n",
      "Epoch 19: val_loss improved from 0.16019 to 0.15873, saving model to bestModel\\IncModel.h5\n",
      "277/277 [==============================] - 23s 82ms/step - loss: 0.2890 - accuracy: 0.8822 - val_loss: 0.1587 - val_accuracy: 0.9534 - lr: 1.0000e-05\n",
      "Epoch 20/50\n",
      "277/277 [==============================] - ETA: 0s - loss: 0.3033 - accuracy: 0.8782\n",
      "Epoch 20: val_loss improved from 0.15873 to 0.15819, saving model to bestModel\\IncModel.h5\n",
      "277/277 [==============================] - 23s 81ms/step - loss: 0.3033 - accuracy: 0.8782 - val_loss: 0.1582 - val_accuracy: 0.9513 - lr: 1.0000e-05\n",
      "Epoch 21/50\n",
      "277/277 [==============================] - ETA: 0s - loss: 0.2872 - accuracy: 0.8867\n",
      "Epoch 21: val_loss improved from 0.15819 to 0.15383, saving model to bestModel\\IncModel.h5\n",
      "277/277 [==============================] - 22s 80ms/step - loss: 0.2872 - accuracy: 0.8867 - val_loss: 0.1538 - val_accuracy: 0.9492 - lr: 1.0000e-05\n",
      "Epoch 22/50\n",
      "277/277 [==============================] - ETA: 0s - loss: 0.2427 - accuracy: 0.9034\n",
      "Epoch 22: val_loss did not improve from 0.15383\n",
      "277/277 [==============================] - 22s 80ms/step - loss: 0.2427 - accuracy: 0.9034 - val_loss: 0.1550 - val_accuracy: 0.9513 - lr: 1.0000e-05\n",
      "Epoch 23/50\n",
      "277/277 [==============================] - ETA: 0s - loss: 0.2928 - accuracy: 0.8872\n",
      "Epoch 23: val_loss did not improve from 0.15383\n",
      "277/277 [==============================] - 22s 79ms/step - loss: 0.2928 - accuracy: 0.8872 - val_loss: 0.1558 - val_accuracy: 0.9492 - lr: 1.0000e-05\n",
      "Epoch 24/50\n",
      "277/277 [==============================] - ETA: 0s - loss: 0.2908 - accuracy: 0.8863\n",
      "Epoch 24: val_loss improved from 0.15383 to 0.15337, saving model to bestModel\\IncModel.h5\n",
      "277/277 [==============================] - 22s 81ms/step - loss: 0.2908 - accuracy: 0.8863 - val_loss: 0.1534 - val_accuracy: 0.9492 - lr: 1.0000e-05\n",
      "Epoch 25/50\n",
      "277/277 [==============================] - ETA: 0s - loss: 0.2419 - accuracy: 0.8989\n",
      "Epoch 25: val_loss improved from 0.15337 to 0.15149, saving model to bestModel\\IncModel.h5\n",
      "277/277 [==============================] - 22s 81ms/step - loss: 0.2419 - accuracy: 0.8989 - val_loss: 0.1515 - val_accuracy: 0.9492 - lr: 1.0000e-05\n"
     ]
    },
    {
     "name": "stdout",
     "output_type": "stream",
     "text": [
      "Epoch 26/50\n",
      "277/277 [==============================] - ETA: 0s - loss: 0.2781 - accuracy: 0.8935\n",
      "Epoch 26: val_loss did not improve from 0.15149\n",
      "277/277 [==============================] - 22s 80ms/step - loss: 0.2781 - accuracy: 0.8935 - val_loss: 0.1525 - val_accuracy: 0.9513 - lr: 1.0000e-05\n",
      "Epoch 27/50\n",
      "277/277 [==============================] - ETA: 0s - loss: 0.2760 - accuracy: 0.8971\n",
      "Epoch 27: val_loss improved from 0.15149 to 0.15030, saving model to bestModel\\IncModel.h5\n",
      "277/277 [==============================] - 22s 81ms/step - loss: 0.2760 - accuracy: 0.8971 - val_loss: 0.1503 - val_accuracy: 0.9513 - lr: 1.0000e-05\n",
      "Epoch 28/50\n",
      "277/277 [==============================] - ETA: 0s - loss: 0.2627 - accuracy: 0.8989\n",
      "Epoch 28: val_loss improved from 0.15030 to 0.14921, saving model to bestModel\\IncModel.h5\n",
      "277/277 [==============================] - 23s 81ms/step - loss: 0.2627 - accuracy: 0.8989 - val_loss: 0.1492 - val_accuracy: 0.9513 - lr: 1.0000e-05\n",
      "Epoch 29/50\n",
      "277/277 [==============================] - ETA: 0s - loss: 0.2586 - accuracy: 0.9012\n",
      "Epoch 29: val_loss did not improve from 0.14921\n",
      "277/277 [==============================] - 22s 80ms/step - loss: 0.2586 - accuracy: 0.9012 - val_loss: 0.1514 - val_accuracy: 0.9492 - lr: 1.0000e-05\n",
      "Epoch 30/50\n",
      "277/277 [==============================] - ETA: 0s - loss: 0.2565 - accuracy: 0.9012\n",
      "Epoch 30: val_loss improved from 0.14921 to 0.14692, saving model to bestModel\\IncModel.h5\n",
      "277/277 [==============================] - 23s 81ms/step - loss: 0.2565 - accuracy: 0.9012 - val_loss: 0.1469 - val_accuracy: 0.9513 - lr: 1.0000e-05\n",
      "Epoch 31/50\n",
      "277/277 [==============================] - ETA: 0s - loss: 0.2686 - accuracy: 0.8899\n",
      "Epoch 31: val_loss did not improve from 0.14692\n",
      "277/277 [==============================] - 22s 79ms/step - loss: 0.2686 - accuracy: 0.8899 - val_loss: 0.1514 - val_accuracy: 0.9492 - lr: 1.0000e-05\n",
      "Epoch 32/50\n",
      "277/277 [==============================] - ETA: 0s - loss: 0.2493 - accuracy: 0.9039\n",
      "Epoch 32: val_loss improved from 0.14692 to 0.14398, saving model to bestModel\\IncModel.h5\n",
      "277/277 [==============================] - 22s 81ms/step - loss: 0.2493 - accuracy: 0.9039 - val_loss: 0.1440 - val_accuracy: 0.9513 - lr: 1.0000e-05\n",
      "Epoch 33/50\n",
      "277/277 [==============================] - ETA: 0s - loss: 0.2719 - accuracy: 0.8949\n",
      "Epoch 33: val_loss improved from 0.14398 to 0.14288, saving model to bestModel\\IncModel.h5\n",
      "277/277 [==============================] - 22s 81ms/step - loss: 0.2719 - accuracy: 0.8949 - val_loss: 0.1429 - val_accuracy: 0.9534 - lr: 1.0000e-05\n",
      "Epoch 33: early stopping\n"
     ]
    }
   ],
   "source": [
    "hsInc = modelInc.fit_generator(generator = train_data, \n",
    "                         steps_per_epoch=train_data.samples//batchsize,\n",
    "                         epochs= 50, \n",
    "                         verbose=1, \n",
    "                         validation_data=val_data , \n",
    "                         validation_steps=val_data.samples//batchsize , \n",
    "                         callbacks = cdInc, \n",
    "                         )"
   ]
  },
  {
   "cell_type": "code",
   "execution_count": 64,
   "id": "cc6a244e",
   "metadata": {
    "scrolled": false
   },
   "outputs": [
    {
     "name": "stdout",
     "output_type": "stream",
     "text": [
      "Epoch 1/50\n"
     ]
    },
    {
     "name": "stderr",
     "output_type": "stream",
     "text": [
      "C:\\Users\\igosa\\AppData\\Local\\Temp\\ipykernel_19328\\1293718730.py:1: UserWarning: `Model.fit_generator` is deprecated and will be removed in a future version. Please use `Model.fit`, which supports generators.\n",
      "  hsVGG = modelVGG.fit_generator(generator = train_data,\n"
     ]
    },
    {
     "name": "stdout",
     "output_type": "stream",
     "text": [
      "277/277 [==============================] - ETA: 0s - loss: 0.8718 - accuracy: 0.5451\n",
      "Epoch 1: val_loss improved from inf to 0.60616, saving model to bestModel\\VGGModel.h5\n",
      "277/277 [==============================] - 29s 87ms/step - loss: 0.8718 - accuracy: 0.5451 - val_loss: 0.6062 - val_accuracy: 0.8496 - lr: 1.0000e-05\n",
      "Epoch 2/50\n",
      "277/277 [==============================] - ETA: 0s - loss: 0.7333 - accuracy: 0.6178\n",
      "Epoch 2: val_loss improved from 0.60616 to 0.45131, saving model to bestModel\\VGGModel.h5\n",
      "277/277 [==============================] - 23s 84ms/step - loss: 0.7333 - accuracy: 0.6178 - val_loss: 0.4513 - val_accuracy: 0.8919 - lr: 1.0000e-05\n",
      "Epoch 3/50\n",
      "277/277 [==============================] - ETA: 0s - loss: 0.6683 - accuracy: 0.6408\n",
      "Epoch 3: val_loss improved from 0.45131 to 0.36803, saving model to bestModel\\VGGModel.h5\n",
      "277/277 [==============================] - 24s 86ms/step - loss: 0.6683 - accuracy: 0.6408 - val_loss: 0.3680 - val_accuracy: 0.9047 - lr: 1.0000e-05\n",
      "Epoch 4/50\n",
      "277/277 [==============================] - ETA: 0s - loss: 0.5980 - accuracy: 0.6931\n",
      "Epoch 4: val_loss improved from 0.36803 to 0.33116, saving model to bestModel\\VGGModel.h5\n",
      "277/277 [==============================] - 24s 85ms/step - loss: 0.5980 - accuracy: 0.6931 - val_loss: 0.3312 - val_accuracy: 0.9131 - lr: 1.0000e-05\n",
      "Epoch 5/50\n",
      "277/277 [==============================] - ETA: 0s - loss: 0.5783 - accuracy: 0.7139\n",
      "Epoch 5: val_loss improved from 0.33116 to 0.30293, saving model to bestModel\\VGGModel.h5\n",
      "277/277 [==============================] - 24s 86ms/step - loss: 0.5783 - accuracy: 0.7139 - val_loss: 0.3029 - val_accuracy: 0.9131 - lr: 1.0000e-05\n",
      "Epoch 6/50\n",
      "277/277 [==============================] - ETA: 0s - loss: 0.5231 - accuracy: 0.7464\n",
      "Epoch 6: val_loss improved from 0.30293 to 0.28627, saving model to bestModel\\VGGModel.h5\n",
      "277/277 [==============================] - 24s 85ms/step - loss: 0.5231 - accuracy: 0.7464 - val_loss: 0.2863 - val_accuracy: 0.9131 - lr: 1.0000e-05\n",
      "Epoch 7/50\n",
      "277/277 [==============================] - ETA: 0s - loss: 0.4897 - accuracy: 0.7613\n",
      "Epoch 7: val_loss improved from 0.28627 to 0.27135, saving model to bestModel\\VGGModel.h5\n",
      "277/277 [==============================] - 24s 85ms/step - loss: 0.4897 - accuracy: 0.7613 - val_loss: 0.2714 - val_accuracy: 0.9153 - lr: 1.0000e-05\n",
      "Epoch 8/50\n",
      "277/277 [==============================] - ETA: 0s - loss: 0.4735 - accuracy: 0.7807\n",
      "Epoch 8: val_loss improved from 0.27135 to 0.25803, saving model to bestModel\\VGGModel.h5\n",
      "277/277 [==============================] - 23s 85ms/step - loss: 0.4735 - accuracy: 0.7807 - val_loss: 0.2580 - val_accuracy: 0.9174 - lr: 1.0000e-05\n",
      "Epoch 9/50\n",
      "277/277 [==============================] - ETA: 0s - loss: 0.4766 - accuracy: 0.7793\n",
      "Epoch 9: val_loss improved from 0.25803 to 0.25044, saving model to bestModel\\VGGModel.h5\n",
      "277/277 [==============================] - 24s 85ms/step - loss: 0.4766 - accuracy: 0.7793 - val_loss: 0.2504 - val_accuracy: 0.9195 - lr: 1.0000e-05\n",
      "Epoch 10/50\n",
      "277/277 [==============================] - ETA: 0s - loss: 0.4549 - accuracy: 0.7960\n",
      "Epoch 10: val_loss improved from 0.25044 to 0.24184, saving model to bestModel\\VGGModel.h5\n",
      "277/277 [==============================] - 24s 85ms/step - loss: 0.4549 - accuracy: 0.7960 - val_loss: 0.2418 - val_accuracy: 0.9174 - lr: 1.0000e-05\n",
      "Epoch 11/50\n",
      "277/277 [==============================] - ETA: 0s - loss: 0.4356 - accuracy: 0.8005\n",
      "Epoch 11: val_loss improved from 0.24184 to 0.23737, saving model to bestModel\\VGGModel.h5\n",
      "277/277 [==============================] - 24s 87ms/step - loss: 0.4356 - accuracy: 0.8005 - val_loss: 0.2374 - val_accuracy: 0.9216 - lr: 1.0000e-05\n",
      "Epoch 12/50\n",
      "277/277 [==============================] - ETA: 0s - loss: 0.4359 - accuracy: 0.8046\n",
      "Epoch 12: val_loss improved from 0.23737 to 0.23276, saving model to bestModel\\VGGModel.h5\n",
      "277/277 [==============================] - 23s 85ms/step - loss: 0.4359 - accuracy: 0.8046 - val_loss: 0.2328 - val_accuracy: 0.9195 - lr: 1.0000e-05\n",
      "Epoch 13/50\n",
      "277/277 [==============================] - ETA: 0s - loss: 0.4029 - accuracy: 0.8348\n",
      "Epoch 13: val_loss improved from 0.23276 to 0.22834, saving model to bestModel\\VGGModel.h5\n",
      "277/277 [==============================] - 24s 85ms/step - loss: 0.4029 - accuracy: 0.8348 - val_loss: 0.2283 - val_accuracy: 0.9237 - lr: 1.0000e-05\n",
      "Epoch 14/50\n",
      "277/277 [==============================] - ETA: 0s - loss: 0.4325 - accuracy: 0.8096\n",
      "Epoch 14: val_loss improved from 0.22834 to 0.22381, saving model to bestModel\\VGGModel.h5\n",
      "277/277 [==============================] - 24s 86ms/step - loss: 0.4325 - accuracy: 0.8096 - val_loss: 0.2238 - val_accuracy: 0.9195 - lr: 1.0000e-05\n",
      "Epoch 15/50\n",
      "277/277 [==============================] - ETA: 0s - loss: 0.3888 - accuracy: 0.8335\n",
      "Epoch 15: val_loss improved from 0.22381 to 0.21995, saving model to bestModel\\VGGModel.h5\n",
      "277/277 [==============================] - 24s 85ms/step - loss: 0.3888 - accuracy: 0.8335 - val_loss: 0.2199 - val_accuracy: 0.9216 - lr: 1.0000e-05\n",
      "Epoch 16/50\n",
      "277/277 [==============================] - ETA: 0s - loss: 0.3852 - accuracy: 0.8389\n",
      "Epoch 16: val_loss improved from 0.21995 to 0.21668, saving model to bestModel\\VGGModel.h5\n",
      "277/277 [==============================] - 24s 85ms/step - loss: 0.3852 - accuracy: 0.8389 - val_loss: 0.2167 - val_accuracy: 0.9237 - lr: 1.0000e-05\n",
      "Epoch 17/50\n",
      "277/277 [==============================] - ETA: 0s - loss: 0.3805 - accuracy: 0.8375\n",
      "Epoch 17: val_loss improved from 0.21668 to 0.21346, saving model to bestModel\\VGGModel.h5\n",
      "277/277 [==============================] - 24s 85ms/step - loss: 0.3805 - accuracy: 0.8375 - val_loss: 0.2135 - val_accuracy: 0.9237 - lr: 1.0000e-05\n",
      "Epoch 18/50\n",
      "277/277 [==============================] - ETA: 0s - loss: 0.3663 - accuracy: 0.8362\n",
      "Epoch 18: val_loss improved from 0.21346 to 0.20950, saving model to bestModel\\VGGModel.h5\n",
      "277/277 [==============================] - 24s 85ms/step - loss: 0.3663 - accuracy: 0.8362 - val_loss: 0.2095 - val_accuracy: 0.9237 - lr: 1.0000e-05\n",
      "Epoch 19/50\n",
      "277/277 [==============================] - ETA: 0s - loss: 0.4015 - accuracy: 0.8312\n",
      "Epoch 19: val_loss improved from 0.20950 to 0.20767, saving model to bestModel\\VGGModel.h5\n",
      "277/277 [==============================] - 23s 84ms/step - loss: 0.4015 - accuracy: 0.8312 - val_loss: 0.2077 - val_accuracy: 0.9258 - lr: 1.0000e-05\n",
      "Epoch 20/50\n",
      "277/277 [==============================] - ETA: 0s - loss: 0.3856 - accuracy: 0.8443\n",
      "Epoch 20: val_loss improved from 0.20767 to 0.20354, saving model to bestModel\\VGGModel.h5\n",
      "277/277 [==============================] - 23s 84ms/step - loss: 0.3856 - accuracy: 0.8443 - val_loss: 0.2035 - val_accuracy: 0.9322 - lr: 1.0000e-05\n",
      "Epoch 21/50\n",
      "277/277 [==============================] - ETA: 0s - loss: 0.3567 - accuracy: 0.8488\n",
      "Epoch 21: val_loss improved from 0.20354 to 0.20152, saving model to bestModel\\VGGModel.h5\n",
      "277/277 [==============================] - 24s 85ms/step - loss: 0.3567 - accuracy: 0.8488 - val_loss: 0.2015 - val_accuracy: 0.9343 - lr: 1.0000e-05\n",
      "Epoch 22/50\n",
      "277/277 [==============================] - ETA: 0s - loss: 0.3448 - accuracy: 0.8633\n",
      "Epoch 22: val_loss improved from 0.20152 to 0.20084, saving model to bestModel\\VGGModel.h5\n",
      "277/277 [==============================] - 23s 84ms/step - loss: 0.3448 - accuracy: 0.8633 - val_loss: 0.2008 - val_accuracy: 0.9343 - lr: 1.0000e-05\n",
      "Epoch 23/50\n",
      "277/277 [==============================] - ETA: 0s - loss: 0.3585 - accuracy: 0.8511\n",
      "Epoch 23: val_loss improved from 0.20084 to 0.19859, saving model to bestModel\\VGGModel.h5\n",
      "277/277 [==============================] - 24s 85ms/step - loss: 0.3585 - accuracy: 0.8511 - val_loss: 0.1986 - val_accuracy: 0.9364 - lr: 1.0000e-05\n",
      "Epoch 24/50\n",
      "277/277 [==============================] - ETA: 0s - loss: 0.3615 - accuracy: 0.8542\n",
      "Epoch 24: val_loss improved from 0.19859 to 0.19463, saving model to bestModel\\VGGModel.h5\n",
      "277/277 [==============================] - 23s 85ms/step - loss: 0.3615 - accuracy: 0.8542 - val_loss: 0.1946 - val_accuracy: 0.9386 - lr: 1.0000e-05\n",
      "Epoch 25/50\n",
      "277/277 [==============================] - ETA: 0s - loss: 0.3499 - accuracy: 0.8655\n",
      "Epoch 25: val_loss improved from 0.19463 to 0.19209, saving model to bestModel\\VGGModel.h5\n"
     ]
    },
    {
     "name": "stdout",
     "output_type": "stream",
     "text": [
      "277/277 [==============================] - 23s 83ms/step - loss: 0.3499 - accuracy: 0.8655 - val_loss: 0.1921 - val_accuracy: 0.9343 - lr: 1.0000e-05\n",
      "Epoch 26/50\n",
      "277/277 [==============================] - ETA: 0s - loss: 0.3342 - accuracy: 0.8664\n",
      "Epoch 26: val_loss improved from 0.19209 to 0.18964, saving model to bestModel\\VGGModel.h5\n",
      "277/277 [==============================] - 23s 84ms/step - loss: 0.3342 - accuracy: 0.8664 - val_loss: 0.1896 - val_accuracy: 0.9364 - lr: 1.0000e-05\n",
      "Epoch 27/50\n",
      "277/277 [==============================] - ETA: 0s - loss: 0.3408 - accuracy: 0.8497\n",
      "Epoch 27: val_loss improved from 0.18964 to 0.18788, saving model to bestModel\\VGGModel.h5\n",
      "277/277 [==============================] - 23s 84ms/step - loss: 0.3408 - accuracy: 0.8497 - val_loss: 0.1879 - val_accuracy: 0.9386 - lr: 1.0000e-05\n",
      "Epoch 28/50\n",
      "277/277 [==============================] - ETA: 0s - loss: 0.3502 - accuracy: 0.8633\n",
      "Epoch 28: val_loss improved from 0.18788 to 0.18710, saving model to bestModel\\VGGModel.h5\n",
      "277/277 [==============================] - 23s 84ms/step - loss: 0.3502 - accuracy: 0.8633 - val_loss: 0.1871 - val_accuracy: 0.9407 - lr: 1.0000e-05\n",
      "Epoch 29/50\n",
      "277/277 [==============================] - ETA: 0s - loss: 0.3322 - accuracy: 0.8628\n",
      "Epoch 29: val_loss improved from 0.18710 to 0.18691, saving model to bestModel\\VGGModel.h5\n",
      "277/277 [==============================] - 23s 84ms/step - loss: 0.3322 - accuracy: 0.8628 - val_loss: 0.1869 - val_accuracy: 0.9428 - lr: 1.0000e-05\n",
      "Epoch 30/50\n",
      "277/277 [==============================] - ETA: 0s - loss: 0.3475 - accuracy: 0.8574\n",
      "Epoch 30: val_loss improved from 0.18691 to 0.18627, saving model to bestModel\\VGGModel.h5\n",
      "277/277 [==============================] - 23s 84ms/step - loss: 0.3475 - accuracy: 0.8574 - val_loss: 0.1863 - val_accuracy: 0.9470 - lr: 1.0000e-05\n",
      "Epoch 31/50\n",
      "277/277 [==============================] - ETA: 0s - loss: 0.3487 - accuracy: 0.8628\n",
      "Epoch 31: val_loss improved from 0.18627 to 0.18154, saving model to bestModel\\VGGModel.h5\n",
      "277/277 [==============================] - 23s 84ms/step - loss: 0.3487 - accuracy: 0.8628 - val_loss: 0.1815 - val_accuracy: 0.9428 - lr: 1.0000e-05\n",
      "Epoch 32/50\n",
      "277/277 [==============================] - ETA: 0s - loss: 0.3250 - accuracy: 0.8642\n",
      "Epoch 32: val_loss improved from 0.18154 to 0.18018, saving model to bestModel\\VGGModel.h5\n",
      "277/277 [==============================] - 23s 84ms/step - loss: 0.3250 - accuracy: 0.8642 - val_loss: 0.1802 - val_accuracy: 0.9449 - lr: 1.0000e-05\n",
      "Epoch 33/50\n",
      "277/277 [==============================] - ETA: 0s - loss: 0.3379 - accuracy: 0.8655\n",
      "Epoch 33: val_loss improved from 0.18018 to 0.17708, saving model to bestModel\\VGGModel.h5\n",
      "277/277 [==============================] - 24s 85ms/step - loss: 0.3379 - accuracy: 0.8655 - val_loss: 0.1771 - val_accuracy: 0.9428 - lr: 1.0000e-05\n",
      "Epoch 34/50\n",
      "277/277 [==============================] - ETA: 0s - loss: 0.3096 - accuracy: 0.8696\n",
      "Epoch 34: val_loss did not improve from 0.17708\n",
      "277/277 [==============================] - 23s 83ms/step - loss: 0.3096 - accuracy: 0.8696 - val_loss: 0.1786 - val_accuracy: 0.9513 - lr: 1.0000e-05\n",
      "Epoch 35/50\n",
      "277/277 [==============================] - ETA: 0s - loss: 0.3262 - accuracy: 0.8669\n",
      "Epoch 35: val_loss did not improve from 0.17708\n",
      "277/277 [==============================] - 23s 84ms/step - loss: 0.3262 - accuracy: 0.8669 - val_loss: 0.1775 - val_accuracy: 0.9513 - lr: 1.0000e-05\n",
      "Epoch 36/50\n",
      "277/277 [==============================] - ETA: 0s - loss: 0.3327 - accuracy: 0.8687\n",
      "Epoch 36: val_loss improved from 0.17708 to 0.17628, saving model to bestModel\\VGGModel.h5\n",
      "277/277 [==============================] - 23s 84ms/step - loss: 0.3327 - accuracy: 0.8687 - val_loss: 0.1763 - val_accuracy: 0.9492 - lr: 1.0000e-05\n",
      "Epoch 37/50\n",
      "277/277 [==============================] - ETA: 0s - loss: 0.3051 - accuracy: 0.8764\n",
      "Epoch 37: val_loss improved from 0.17628 to 0.17539, saving model to bestModel\\VGGModel.h5\n",
      "277/277 [==============================] - 23s 84ms/step - loss: 0.3051 - accuracy: 0.8764 - val_loss: 0.1754 - val_accuracy: 0.9513 - lr: 1.0000e-05\n",
      "Epoch 38/50\n",
      "277/277 [==============================] - ETA: 0s - loss: 0.3484 - accuracy: 0.8538\n",
      "Epoch 38: val_loss improved from 0.17539 to 0.17381, saving model to bestModel\\VGGModel.h5\n",
      "277/277 [==============================] - 23s 85ms/step - loss: 0.3484 - accuracy: 0.8538 - val_loss: 0.1738 - val_accuracy: 0.9513 - lr: 1.0000e-05\n",
      "Epoch 39/50\n",
      "277/277 [==============================] - ETA: 0s - loss: 0.3059 - accuracy: 0.8786\n",
      "Epoch 39: val_loss did not improve from 0.17381\n",
      "277/277 [==============================] - 23s 84ms/step - loss: 0.3059 - accuracy: 0.8786 - val_loss: 0.1740 - val_accuracy: 0.9513 - lr: 1.0000e-05\n",
      "Epoch 39: early stopping\n"
     ]
    }
   ],
   "source": [
    "hsVGG = modelVGG.fit_generator(generator = train_data, \n",
    "                         steps_per_epoch=train_data.samples//batchsize,\n",
    "                         epochs= 50, \n",
    "                         verbose=1, \n",
    "                         validation_data=val_data , \n",
    "                         validation_steps=val_data.samples//batchsize , \n",
    "                         callbacks = cdVGG, \n",
    "                         )"
   ]
  },
  {
   "cell_type": "markdown",
   "id": "5cf639cc",
   "metadata": {},
   "source": [
    "# Evaluate InceptionV3 Model"
   ]
  },
  {
   "cell_type": "code",
   "execution_count": 17,
   "id": "f6390054",
   "metadata": {},
   "outputs": [
    {
     "data": {
      "text/plain": [
       "dict_keys(['loss', 'accuracy', 'val_loss', 'val_accuracy', 'lr'])"
      ]
     },
     "execution_count": 17,
     "metadata": {},
     "output_type": "execute_result"
    }
   ],
   "source": [
    "hInc = hsInc.history\n",
    "\n",
    "hInc.keys()"
   ]
  },
  {
   "cell_type": "code",
   "execution_count": 76,
   "id": "358ea842",
   "metadata": {},
   "outputs": [
    {
     "data": {
      "image/png": "[encoded data removed]",
      "text/plain": [
       "<Figure size 640x480 with 1 Axes>"
      ]
     },
     "metadata": {},
     "output_type": "display_data"
    }
   ],
   "source": [
    "plt.title('Accuracy')\n",
    "plt.plot(hInc['accuracy'] ,c = \"green\", label='train' )\n",
    "plt.plot(hInc['val_accuracy'] ,c = \"red\", label='test')\n",
    "plt.legend()\n",
    "plt.show()"
   ]
  },
  {
   "cell_type": "code",
   "execution_count": 77,
   "id": "c377700c",
   "metadata": {},
   "outputs": [
    {
     "data": {
      "image/png": "[encoded data removed]",
      "text/plain": [
       "<Figure size 640x480 with 1 Axes>"
      ]
     },
     "metadata": {},
     "output_type": "display_data"
    }
   ],
   "source": [
    "plt.title('Loss')\n",
    "plt.plot(hInc['loss'] ,c = \"green\", label='train' )\n",
    "plt.plot(hInc['val_loss'] ,c = \"red\", label='test')\n",
    "plt.legend()\n",
    "plt.show()"
   ]
  },
  {
   "cell_type": "code",
   "execution_count": 2,
   "id": "1f3d7092",
   "metadata": {},
   "outputs": [
    {
     "name": "stdout",
     "output_type": "stream",
     "text": [
      "WARNING:tensorflow:Layer lstm will not use cuDNN kernels since it doesn't meet the criteria. It will use a generic GPU kernel as fallback when running on GPU.\n"
     ]
    }
   ],
   "source": [
    "best_model = load_model(\"bestModel/IncModel.h5\")"
   ]
  },
  {
   "cell_type": "code",
   "execution_count": 27,
   "id": "551e9190",
   "metadata": {},
   "outputs": [
    {
     "name": "stdout",
     "output_type": "stream",
     "text": [
      "59/59 [==============================] - 2s 23ms/step - loss: 0.1429 - accuracy: 0.9534\n",
      "the accuracy of model is 95.3389823436737\n"
     ]
    }
   ],
   "source": [
    "acc = modelInc.evaluate(val_data)[1]\n",
    "\n",
    "print(f\"the accuracy of model is {acc * 100}\")"
   ]
  },
  {
   "cell_type": "code",
   "execution_count": 23,
   "id": "004ae0d9",
   "metadata": {},
   "outputs": [
    {
     "name": "stdout",
     "output_type": "stream",
     "text": [
      "59/59 [==============================] - 2s 23ms/step - loss: 0.1446 - accuracy: 0.9449\n",
      "0.1445792019367218\n",
      "0.944915235042572\n"
     ]
    }
   ],
   "source": [
    "acc_test, loss_test = best_model.evaluate(test_data)\n",
    "print(acc_test)\n",
    "print(loss_test)"
   ]
  },
  {
   "cell_type": "code",
   "execution_count": 10,
   "id": "9667555a",
   "metadata": {},
   "outputs": [
    {
     "name": "stdout",
     "output_type": "stream",
     "text": [
      "Found 472 images belonging to 2 classes.\n",
      "59/59 [==============================] - 10s 24ms/step\n",
      "[0 0 0 0 0 0 0 0 0 0 0 0 0 1 0 0 0 1 0 0 1 0 0 1 0 0 0 0 0 0 0 0 0 0 0 1 0\n",
      " 0 0 0 1 0 0 0 0 0 1 0 0 0 0 0 0 0 0 0 0 1 0 0 0 0 0 0 0 0 0 0 0 0 0 0 0 0\n",
      " 0 0 0 0 0 0 0 0 0 0 0 0 0 0 0 0 0 0 0 0 0 0 0 0 0 0 1 0 0 0 0 0 0 0 0 0 0\n",
      " 0 0 0 0 0 0 0 0 0 0 0 0 0 0 0 0 0 0 0 0 0 0 0 0 0 0 0 0 0 0 0 0 0 0 0 0 0\n",
      " 0 0 0 0 0 0 0 0 0 0 0 0 0 0 0 1 0 0 0 1 0 0 0 0 0 0 0 0 0 0 0 0 0 0 0 0 0\n",
      " 0 0 0 0 0 0 0 0 0 0 0 0 0 0 0 0 0 0 0 0 0 0 0 0 0 0 0 0 0 0 0 0 0 0 0 0 0\n",
      " 0 0 0 0 0 0 0 0 0 0 0 0 0 0 1 0 0 0 0 0 0 0 0 0 0 0 0 0 0 0 1 1 1 1 1 1 1\n",
      " 1 1 1 1 1 1 1 1 1 1 1 1 1 1 1 1 1 1 1 1 1 1 1 1 0 1 1 1 1 1 1 1 1 1 1 1 1\n",
      " 1 1 1 1 1 1 1 1 1 1 1 1 1 1 1 1 1 1 1 1 1 1 1 1 1 1 1 1 1 1 1 1 1 1 1 1 1\n",
      " 1 1 1 1 1 1 1 1 1 1 1 1 1 1 1 1 1 1 1 1 1 1 1 1 1 1 1 1 1 1 1 1 1 1 1 1 1\n",
      " 1 1 1 1 1 1 1 1 1 1 1 1 1 1 1 1 1 1 1 1 1 1 1 1 1 1 1 1 1 1 1 1 1 1 1 1 1\n",
      " 1 1 1 1 1 1 1 1 1 1 1 1 1 1 1 1 0 1 1 1 1 1 1 1 1 1 1 1 1 1 1 1 1 1 1 1 1\n",
      " 1 1 1 1 1 1 1 1 0 1 0 1 0 1 0 0 0 1 0 0 0 1 0 1 1 1 0 0]\n"
     ]
    }
   ],
   "source": [
    "test_generator = ImageDataGenerator( rescale = 1/255)\n",
    "test_data_generator = test_generator.flow_from_directory(\n",
    "    './test',\n",
    "     target_size=(224, 224),\n",
    "    batch_size=batchsize,\n",
    "    shuffle=False)\n",
    "test_steps_per_epoch = np.math.ceil(test_data_generator.samples / test_data_generator.batch_size)\n",
    "\n",
    "predictions = best_model.predict(test_data_generator, steps=test_steps_per_epoch)\n",
    "# Get most likely class\n",
    "predicted_classes = np.argmax(predictions, axis=1)\n",
    "print(predicted_classes)"
   ]
  },
  {
   "cell_type": "code",
   "execution_count": 11,
   "id": "9e9f797f",
   "metadata": {},
   "outputs": [
    {
     "name": "stdout",
     "output_type": "stream",
     "text": [
      "['no', 'yes']\n"
     ]
    }
   ],
   "source": [
    "true_classes = test_data_generator.classes\n",
    "class_labels = list(test_data_generator.class_indices.keys())\n",
    "print(class_labels)"
   ]
  },
  {
   "cell_type": "code",
   "execution_count": 12,
   "id": "ccd30883",
   "metadata": {},
   "outputs": [
    {
     "name": "stdout",
     "output_type": "stream",
     "text": [
      "              precision    recall  f1-score   support\n",
      "\n",
      "          no       0.94      0.95      0.95       252\n",
      "         yes       0.94      0.94      0.94       220\n",
      "\n",
      "    accuracy                           0.94       472\n",
      "   macro avg       0.94      0.94      0.94       472\n",
      "weighted avg       0.94      0.94      0.94       472\n",
      "\n"
     ]
    }
   ],
   "source": [
    "report = classification_report(true_classes, predicted_classes, target_names=class_labels)\n",
    "print(report)   "
   ]
  },
  {
   "cell_type": "code",
   "execution_count": 13,
   "id": "32b10c4e",
   "metadata": {},
   "outputs": [
    {
     "name": "stdout",
     "output_type": "stream",
     "text": [
      "59/59 [==============================] - 2s 26ms/step\n",
      "[[240  12]\n",
      " [ 14 206]]\n"
     ]
    }
   ],
   "source": [
    "probabilities = best_model.predict(test_data_generator)\n",
    "y_pred = np.argmax(probabilities, axis = 1)\n",
    "\n",
    "print(confusion_matrix(test_data.classes, y_pred))"
   ]
  },
  {
   "cell_type": "code",
   "execution_count": 15,
   "id": "dc870ea4",
   "metadata": {},
   "outputs": [
    {
     "data": {
      "image/png": "[encoded data removed]",
      "text/plain": [
       "<Figure size 640x480 with 2 Axes>"
      ]
     },
     "metadata": {},
     "output_type": "display_data"
    },
    {
     "data": {
      "text/plain": [
       "<Figure size 1200x800 with 0 Axes>"
      ]
     },
     "metadata": {},
     "output_type": "display_data"
    }
   ],
   "source": [
    "ax = plt.subplot() \n",
    "cf_matrix = confusion_matrix(test_data.classes, y_pred)\n",
    "plt.figure(figsize=(12, 8))\n",
    "sns.heatmap(cf_matrix, annot=True, fmt='g', ax= ax)\n",
    "ax.set_xlabel('Predicted labels');ax.set_ylabel('True labels'); \n",
    "ax.xaxis.set_ticklabels(['no', 'yes']); ax.yaxis.set_ticklabels(['no', 'yes']);"
   ]
  },
  {
   "cell_type": "markdown",
   "id": "4f93dc88",
   "metadata": {},
   "source": [
    "# Evaluate VGG Model "
   ]
  },
  {
   "cell_type": "code",
   "execution_count": 65,
   "id": "20315fab",
   "metadata": {},
   "outputs": [
    {
     "data": {
      "text/plain": [
       "dict_keys(['loss', 'accuracy', 'val_loss', 'val_accuracy', 'lr'])"
      ]
     },
     "execution_count": 65,
     "metadata": {},
     "output_type": "execute_result"
    }
   ],
   "source": [
    "hVGG = hsVGG.history\n",
    "\n",
    "hVGG.keys()"
   ]
  },
  {
   "cell_type": "code",
   "execution_count": 66,
   "id": "f5c1bd54",
   "metadata": {},
   "outputs": [
    {
     "data": {
      "image/png": "[encoded data removed]",
      "text/plain": [
       "<Figure size 640x480 with 1 Axes>"
      ]
     },
     "metadata": {},
     "output_type": "display_data"
    }
   ],
   "source": [
    "plt.title('Accuracy')\n",
    "plt.plot(hVGG['accuracy'] ,c = \"green\", label='train' )\n",
    "plt.plot(hVGG['val_accuracy'] ,c = \"red\", label='test')\n",
    "plt.legend()\n",
    "plt.show()"
   ]
  },
  {
   "cell_type": "code",
   "execution_count": 67,
   "id": "775a91fa",
   "metadata": {},
   "outputs": [
    {
     "data": {
      "image/png": "[encoded data removed]",
      "text/plain": [
       "<Figure size 640x480 with 1 Axes>"
      ]
     },
     "metadata": {},
     "output_type": "display_data"
    }
   ],
   "source": [
    "plt.title('Loss')\n",
    "plt.plot(hVGG['loss'] ,c = \"green\", label='train' )\n",
    "plt.plot(hVGG['val_loss'] ,c = \"red\", label='test')\n",
    "plt.legend()\n",
    "plt.show()"
   ]
  },
  {
   "cell_type": "code",
   "execution_count": 16,
   "id": "1a357497",
   "metadata": {},
   "outputs": [
    {
     "name": "stdout",
     "output_type": "stream",
     "text": [
      "WARNING:tensorflow:Layer lstm_3 will not use cuDNN kernels since it doesn't meet the criteria. It will use a generic GPU kernel as fallback when running on GPU.\n"
     ]
    }
   ],
   "source": [
    "best_model_VGG = load_model(\"bestModel/VGGModel.h5\")"
   ]
  },
  {
   "cell_type": "code",
   "execution_count": 18,
   "id": "dcbf5a94",
   "metadata": {},
   "outputs": [
    {
     "name": "stdout",
     "output_type": "stream",
     "text": [
      "59/59 [==============================] - 5s 47ms/step - loss: 0.1738 - accuracy: 0.9513\n",
      "the accuracy of model is 95.12711763381958\n"
     ]
    }
   ],
   "source": [
    "acc = best_model_VGG.evaluate(val_data)[1]\n",
    "\n",
    "print(f\"the accuracy of model is {acc * 100}\")"
   ]
  },
  {
   "cell_type": "code",
   "execution_count": 19,
   "id": "a2822698",
   "metadata": {},
   "outputs": [
    {
     "name": "stdout",
     "output_type": "stream",
     "text": [
      "59/59 [==============================] - 3s 47ms/step - loss: 0.1479 - accuracy: 0.9470\n",
      "0.1479254812002182\n",
      "0.9470338821411133\n"
     ]
    }
   ],
   "source": [
    "acc_test, loss_test = best_model_VGG.evaluate(test_data)\n",
    "print(acc_test)\n",
    "print(loss_test)"
   ]
  },
  {
   "cell_type": "code",
   "execution_count": 20,
   "id": "56a90da5",
   "metadata": {},
   "outputs": [
    {
     "name": "stdout",
     "output_type": "stream",
     "text": [
      "Found 472 images belonging to 2 classes.\n",
      "59/59 [==============================] - 3s 49ms/step\n",
      "[0 0 0 0 0 0 0 0 0 0 0 0 0 0 0 1 0 0 0 0 1 0 0 1 0 0 0 0 0 0 0 0 0 0 0 1 0\n",
      " 0 0 0 0 0 0 1 0 0 1 0 1 0 0 0 1 0 0 0 0 1 0 0 0 0 0 0 0 0 0 0 0 0 0 0 0 0\n",
      " 0 0 0 0 0 0 0 0 0 0 0 0 0 0 0 0 0 0 0 0 0 0 0 0 0 0 0 0 0 0 0 0 0 0 0 0 0\n",
      " 0 0 0 0 0 0 0 0 0 0 0 0 0 0 0 0 0 0 0 0 0 0 0 0 0 0 0 0 0 0 0 0 0 0 0 0 0\n",
      " 0 0 0 0 0 0 0 0 0 0 0 0 0 0 0 1 0 0 0 0 0 0 0 0 0 0 0 0 0 0 0 0 0 0 0 0 0\n",
      " 0 0 0 0 0 0 0 0 0 0 0 0 0 0 0 0 0 0 0 0 0 0 0 0 0 0 0 0 0 0 0 0 0 0 0 0 0\n",
      " 0 0 0 0 0 0 0 0 0 0 0 0 0 1 0 0 0 0 0 0 0 0 0 0 0 0 0 0 0 0 1 1 1 1 1 1 1\n",
      " 1 1 1 1 1 1 1 1 1 1 1 1 1 1 1 1 1 1 1 1 1 1 1 1 1 1 1 1 1 1 1 1 1 1 1 1 1\n",
      " 1 1 1 1 1 1 1 1 1 1 1 1 1 1 1 1 1 1 1 1 1 1 1 1 1 1 1 1 1 1 1 1 1 1 1 1 1\n",
      " 1 1 1 1 1 1 1 1 1 1 1 1 1 1 1 1 1 1 1 1 1 1 1 1 1 1 1 1 1 1 1 1 1 1 1 1 1\n",
      " 1 1 1 1 1 1 1 1 1 1 1 1 1 1 1 1 1 1 1 1 1 1 1 1 1 1 1 1 1 1 1 1 1 1 1 1 1\n",
      " 1 1 1 1 1 1 1 1 1 1 1 1 1 1 1 1 1 1 1 1 1 1 1 1 1 1 1 1 1 1 1 1 1 1 1 1 1\n",
      " 1 1 1 1 1 1 1 1 0 0 0 1 0 1 0 0 0 1 0 0 0 1 0 1 0 1 0 0]\n"
     ]
    }
   ],
   "source": [
    "test_generator = ImageDataGenerator( rescale = 1/255)\n",
    "test_data_generator = test_generator.flow_from_directory(\n",
    "    './test',\n",
    "     target_size=(224, 224),\n",
    "    batch_size=batchsize,\n",
    "    shuffle=False)\n",
    "test_steps_per_epoch = np.math.ceil(test_data_generator.samples / test_data_generator.batch_size)\n",
    "\n",
    "predictions = best_model_VGG.predict(test_data_generator, steps=test_steps_per_epoch)\n",
    "# Get most likely class\n",
    "predicted_classes = np.argmax(predictions, axis=1)\n",
    "print(predicted_classes)"
   ]
  },
  {
   "cell_type": "code",
   "execution_count": 21,
   "id": "f378ed90",
   "metadata": {},
   "outputs": [
    {
     "name": "stdout",
     "output_type": "stream",
     "text": [
      "['no', 'yes']\n"
     ]
    }
   ],
   "source": [
    "true_classes = test_data_generator.classes\n",
    "class_labels = list(test_data_generator.class_indices.keys())\n",
    "print(class_labels)"
   ]
  },
  {
   "cell_type": "code",
   "execution_count": 22,
   "id": "b4e35be9",
   "metadata": {},
   "outputs": [
    {
     "name": "stdout",
     "output_type": "stream",
     "text": [
      "              precision    recall  f1-score   support\n",
      "\n",
      "          no       0.95      0.96      0.95       252\n",
      "         yes       0.95      0.94      0.94       220\n",
      "\n",
      "    accuracy                           0.95       472\n",
      "   macro avg       0.95      0.95      0.95       472\n",
      "weighted avg       0.95      0.95      0.95       472\n",
      "\n"
     ]
    }
   ],
   "source": [
    "report = classification_report(true_classes, predicted_classes, target_names=class_labels)\n",
    "print(report)   "
   ]
  },
  {
   "cell_type": "code",
   "execution_count": 23,
   "id": "f342f416",
   "metadata": {},
   "outputs": [
    {
     "name": "stdout",
     "output_type": "stream",
     "text": [
      "59/59 [==============================] - 3s 49ms/step\n",
      "[[241  11]\n",
      " [ 14 206]]\n"
     ]
    }
   ],
   "source": [
    "probabilities = best_model_VGG.predict(test_data_generator)\n",
    "y_pred = np.argmax(probabilities, axis = 1)\n",
    "\n",
    "print(confusion_matrix(test_data.classes, y_pred))"
   ]
  },
  {
   "cell_type": "code",
   "execution_count": 24,
   "id": "c1930f64",
   "metadata": {},
   "outputs": [
    {
     "data": {
      "image/png": "[encoded data removed]",
      "text/plain": [
       "<Figure size 640x480 with 2 Axes>"
      ]
     },
     "metadata": {},
     "output_type": "display_data"
    },
    {
     "data": {
      "text/plain": [
       "<Figure size 1200x800 with 0 Axes>"
      ]
     },
     "metadata": {},
     "output_type": "display_data"
    }
   ],
   "source": [
    "ax = plt.subplot() \n",
    "cf_matrix = confusion_matrix(test_data.classes, y_pred)\n",
    "plt.figure(figsize=(12, 8))\n",
    "sns.heatmap(cf_matrix, annot=True, fmt='g', ax= ax)\n",
    "ax.set_xlabel('Predicted labels');ax.set_ylabel('True labels'); \n",
    "ax.xaxis.set_ticklabels(['no', 'yes']); ax.yaxis.set_ticklabels(['no', 'yes']);"
   ]
  },
  {
   "cell_type": "code",
   "execution_count": null,
   "id": "8448aeb2",
   "metadata": {},
   "outputs": [],
   "source": []
  }
 ],
 "metadata": {
  "kernelspec": {
   "display_name": "Python 3 (ipykernel)",
   "language": "python",
   "name": "python3"
  },
  "language_info": {
   "codemirror_mode": {
    "name": "ipython",
    "version": 3
   },
   "file_extension": ".py",
   "mimetype": "text/x-python",
   "name": "python",
   "nbconvert_exporter": "python",
   "pygments_lexer": "ipython3",
   "version": "3.9.13"
  }
 },
 "nbformat": 4,
 "nbformat_minor": 5
}
